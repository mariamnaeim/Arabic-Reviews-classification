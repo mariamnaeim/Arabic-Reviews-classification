{
  "nbformat": 4,
  "nbformat_minor": 0,
  "metadata": {
    "colab": {
      "provenance": []
    },
    "kernelspec": {
      "name": "python3",
      "display_name": "Python 3"
    },
    "language_info": {
      "name": "python"
    }
  },
  "cells": [
    {
      "cell_type": "code",
      "execution_count": 1,
      "metadata": {
        "id": "GSG6NVPl4Q0p"
      },
      "outputs": [],
      "source": [
        "import numpy as np\n",
        "import pandas as pd\n",
        "import matplotlib.pyplot as plt\n",
        "import seaborn as sns\n",
        "%matplotlib inline\n",
        "import re #Regular Expressions\n",
        "import string #importing string functions\n",
        "import nltk\n",
        "import warnings\n",
        "warnings.filterwarnings('ignore')\n",
        "from nltk.stem.porter import PorterStemmer"
      ]
    },
    {
      "cell_type": "code",
      "source": [
        "from tensorflow.keras.layers import Embedding,Dropout\n",
        "from tensorflow.keras.preprocessing.sequence import pad_sequences\n",
        "from tensorflow.keras.models import Sequential\n",
        "from tensorflow.keras.preprocessing.text import one_hot\n",
        "from tensorflow.keras.layers import LSTM,Bidirectional,GRU,MaxPooling1D,Conv1D\n",
        "from tensorflow.keras.layers import Dense\n",
        "from tensorflow.keras.optimizers import Adam,SGD\n",
        "from tensorflow.keras import regularizers\n",
        "from tensorflow.keras.callbacks import *\n",
        "from sklearn.model_selection import train_test_split\n",
        "from sklearn import preprocessing\n",
        "from sklearn.model_selection import train_test_split\n",
        "from sklearn.linear_model import LogisticRegression\n",
        "from sklearn.neighbors import KNeighborsClassifier\n",
        "from sklearn.ensemble import RandomForestClassifier\n",
        "from sklearn.tree import DecisionTreeClassifier\n",
        "from sklearn.metrics import accuracy_score, f1_score, confusion_matrix, classification_report, roc_auc_score,roc_curve,auc\n",
        "from sklearn.metrics import accuracy_score, f1_score, confusion_matrix, classification_report, roc_auc_score,roc_curve,auc, precision_score,recall_score\n",
        "from sklearn.metrics import accuracy_score, f1_score, confusion_matrix, classification_report, roc_auc_score,roc_curve,auc"
      ],
      "metadata": {
        "id": "t5X463BP4UGu"
      },
      "execution_count": 2,
      "outputs": []
    },
    {
      "cell_type": "code",
      "source": [
        "df= pd.read_csv('CompanyReviews.csv')\n",
        "df.head()"
      ],
      "metadata": {
        "colab": {
          "base_uri": "https://localhost:8080/",
          "height": 206
        },
        "id": "Lr-ct96x4XVR",
        "outputId": "306fbfb4-5519-4ed8-815f-8710cd877ec3"
      },
      "execution_count": 3,
      "outputs": [
        {
          "output_type": "execute_result",
          "data": {
            "text/plain": [
              "   Unnamed: 0                                 review_description  rating  \\\n",
              "0           0                                               رائع       1   \n",
              "1           1  برنامج رائع جدا يساعد على تلبيه الاحتياجات بشك...       1   \n",
              "2           2  التطبيق لا يغتح دائما بيعطيني لا يوجد اتصال با...      -1   \n",
              "3           3                 لماذا لا يمكننا طلب من ماكدونالدز؟      -1   \n",
              "4           4  البرنامج بيظهر كل المطاعم و مغلقه مع انها بتكو...      -1   \n",
              "\n",
              "  company  \n",
              "0  talbat  \n",
              "1  talbat  \n",
              "2  talbat  \n",
              "3  talbat  \n",
              "4  talbat  "
            ],
            "text/html": [
              "\n",
              "  <div id=\"df-b83e75eb-8f85-4a93-909d-2f8788a51da3\" class=\"colab-df-container\">\n",
              "    <div>\n",
              "<style scoped>\n",
              "    .dataframe tbody tr th:only-of-type {\n",
              "        vertical-align: middle;\n",
              "    }\n",
              "\n",
              "    .dataframe tbody tr th {\n",
              "        vertical-align: top;\n",
              "    }\n",
              "\n",
              "    .dataframe thead th {\n",
              "        text-align: right;\n",
              "    }\n",
              "</style>\n",
              "<table border=\"1\" class=\"dataframe\">\n",
              "  <thead>\n",
              "    <tr style=\"text-align: right;\">\n",
              "      <th></th>\n",
              "      <th>Unnamed: 0</th>\n",
              "      <th>review_description</th>\n",
              "      <th>rating</th>\n",
              "      <th>company</th>\n",
              "    </tr>\n",
              "  </thead>\n",
              "  <tbody>\n",
              "    <tr>\n",
              "      <th>0</th>\n",
              "      <td>0</td>\n",
              "      <td>رائع</td>\n",
              "      <td>1</td>\n",
              "      <td>talbat</td>\n",
              "    </tr>\n",
              "    <tr>\n",
              "      <th>1</th>\n",
              "      <td>1</td>\n",
              "      <td>برنامج رائع جدا يساعد على تلبيه الاحتياجات بشك...</td>\n",
              "      <td>1</td>\n",
              "      <td>talbat</td>\n",
              "    </tr>\n",
              "    <tr>\n",
              "      <th>2</th>\n",
              "      <td>2</td>\n",
              "      <td>التطبيق لا يغتح دائما بيعطيني لا يوجد اتصال با...</td>\n",
              "      <td>-1</td>\n",
              "      <td>talbat</td>\n",
              "    </tr>\n",
              "    <tr>\n",
              "      <th>3</th>\n",
              "      <td>3</td>\n",
              "      <td>لماذا لا يمكننا طلب من ماكدونالدز؟</td>\n",
              "      <td>-1</td>\n",
              "      <td>talbat</td>\n",
              "    </tr>\n",
              "    <tr>\n",
              "      <th>4</th>\n",
              "      <td>4</td>\n",
              "      <td>البرنامج بيظهر كل المطاعم و مغلقه مع انها بتكو...</td>\n",
              "      <td>-1</td>\n",
              "      <td>talbat</td>\n",
              "    </tr>\n",
              "  </tbody>\n",
              "</table>\n",
              "</div>\n",
              "    <div class=\"colab-df-buttons\">\n",
              "\n",
              "  <div class=\"colab-df-container\">\n",
              "    <button class=\"colab-df-convert\" onclick=\"convertToInteractive('df-b83e75eb-8f85-4a93-909d-2f8788a51da3')\"\n",
              "            title=\"Convert this dataframe to an interactive table.\"\n",
              "            style=\"display:none;\">\n",
              "\n",
              "  <svg xmlns=\"http://www.w3.org/2000/svg\" height=\"24px\" viewBox=\"0 -960 960 960\">\n",
              "    <path d=\"M120-120v-720h720v720H120Zm60-500h600v-160H180v160Zm220 220h160v-160H400v160Zm0 220h160v-160H400v160ZM180-400h160v-160H180v160Zm440 0h160v-160H620v160ZM180-180h160v-160H180v160Zm440 0h160v-160H620v160Z\"/>\n",
              "  </svg>\n",
              "    </button>\n",
              "\n",
              "  <style>\n",
              "    .colab-df-container {\n",
              "      display:flex;\n",
              "      gap: 12px;\n",
              "    }\n",
              "\n",
              "    .colab-df-convert {\n",
              "      background-color: #E8F0FE;\n",
              "      border: none;\n",
              "      border-radius: 50%;\n",
              "      cursor: pointer;\n",
              "      display: none;\n",
              "      fill: #1967D2;\n",
              "      height: 32px;\n",
              "      padding: 0 0 0 0;\n",
              "      width: 32px;\n",
              "    }\n",
              "\n",
              "    .colab-df-convert:hover {\n",
              "      background-color: #E2EBFA;\n",
              "      box-shadow: 0px 1px 2px rgba(60, 64, 67, 0.3), 0px 1px 3px 1px rgba(60, 64, 67, 0.15);\n",
              "      fill: #174EA6;\n",
              "    }\n",
              "\n",
              "    .colab-df-buttons div {\n",
              "      margin-bottom: 4px;\n",
              "    }\n",
              "\n",
              "    [theme=dark] .colab-df-convert {\n",
              "      background-color: #3B4455;\n",
              "      fill: #D2E3FC;\n",
              "    }\n",
              "\n",
              "    [theme=dark] .colab-df-convert:hover {\n",
              "      background-color: #434B5C;\n",
              "      box-shadow: 0px 1px 3px 1px rgba(0, 0, 0, 0.15);\n",
              "      filter: drop-shadow(0px 1px 2px rgba(0, 0, 0, 0.3));\n",
              "      fill: #FFFFFF;\n",
              "    }\n",
              "  </style>\n",
              "\n",
              "    <script>\n",
              "      const buttonEl =\n",
              "        document.querySelector('#df-b83e75eb-8f85-4a93-909d-2f8788a51da3 button.colab-df-convert');\n",
              "      buttonEl.style.display =\n",
              "        google.colab.kernel.accessAllowed ? 'block' : 'none';\n",
              "\n",
              "      async function convertToInteractive(key) {\n",
              "        const element = document.querySelector('#df-b83e75eb-8f85-4a93-909d-2f8788a51da3');\n",
              "        const dataTable =\n",
              "          await google.colab.kernel.invokeFunction('convertToInteractive',\n",
              "                                                    [key], {});\n",
              "        if (!dataTable) return;\n",
              "\n",
              "        const docLinkHtml = 'Like what you see? Visit the ' +\n",
              "          '<a target=\"_blank\" href=https://colab.research.google.com/notebooks/data_table.ipynb>data table notebook</a>'\n",
              "          + ' to learn more about interactive tables.';\n",
              "        element.innerHTML = '';\n",
              "        dataTable['output_type'] = 'display_data';\n",
              "        await google.colab.output.renderOutput(dataTable, element);\n",
              "        const docLink = document.createElement('div');\n",
              "        docLink.innerHTML = docLinkHtml;\n",
              "        element.appendChild(docLink);\n",
              "      }\n",
              "    </script>\n",
              "  </div>\n",
              "\n",
              "\n",
              "<div id=\"df-bbf7d7f2-62f4-438c-b3e1-d59e9c5a698c\">\n",
              "  <button class=\"colab-df-quickchart\" onclick=\"quickchart('df-bbf7d7f2-62f4-438c-b3e1-d59e9c5a698c')\"\n",
              "            title=\"Suggest charts.\"\n",
              "            style=\"display:none;\">\n",
              "\n",
              "<svg xmlns=\"http://www.w3.org/2000/svg\" height=\"24px\"viewBox=\"0 0 24 24\"\n",
              "     width=\"24px\">\n",
              "    <g>\n",
              "        <path d=\"M19 3H5c-1.1 0-2 .9-2 2v14c0 1.1.9 2 2 2h14c1.1 0 2-.9 2-2V5c0-1.1-.9-2-2-2zM9 17H7v-7h2v7zm4 0h-2V7h2v10zm4 0h-2v-4h2v4z\"/>\n",
              "    </g>\n",
              "</svg>\n",
              "  </button>\n",
              "\n",
              "<style>\n",
              "  .colab-df-quickchart {\n",
              "      --bg-color: #E8F0FE;\n",
              "      --fill-color: #1967D2;\n",
              "      --hover-bg-color: #E2EBFA;\n",
              "      --hover-fill-color: #174EA6;\n",
              "      --disabled-fill-color: #AAA;\n",
              "      --disabled-bg-color: #DDD;\n",
              "  }\n",
              "\n",
              "  [theme=dark] .colab-df-quickchart {\n",
              "      --bg-color: #3B4455;\n",
              "      --fill-color: #D2E3FC;\n",
              "      --hover-bg-color: #434B5C;\n",
              "      --hover-fill-color: #FFFFFF;\n",
              "      --disabled-bg-color: #3B4455;\n",
              "      --disabled-fill-color: #666;\n",
              "  }\n",
              "\n",
              "  .colab-df-quickchart {\n",
              "    background-color: var(--bg-color);\n",
              "    border: none;\n",
              "    border-radius: 50%;\n",
              "    cursor: pointer;\n",
              "    display: none;\n",
              "    fill: var(--fill-color);\n",
              "    height: 32px;\n",
              "    padding: 0;\n",
              "    width: 32px;\n",
              "  }\n",
              "\n",
              "  .colab-df-quickchart:hover {\n",
              "    background-color: var(--hover-bg-color);\n",
              "    box-shadow: 0 1px 2px rgba(60, 64, 67, 0.3), 0 1px 3px 1px rgba(60, 64, 67, 0.15);\n",
              "    fill: var(--button-hover-fill-color);\n",
              "  }\n",
              "\n",
              "  .colab-df-quickchart-complete:disabled,\n",
              "  .colab-df-quickchart-complete:disabled:hover {\n",
              "    background-color: var(--disabled-bg-color);\n",
              "    fill: var(--disabled-fill-color);\n",
              "    box-shadow: none;\n",
              "  }\n",
              "\n",
              "  .colab-df-spinner {\n",
              "    border: 2px solid var(--fill-color);\n",
              "    border-color: transparent;\n",
              "    border-bottom-color: var(--fill-color);\n",
              "    animation:\n",
              "      spin 1s steps(1) infinite;\n",
              "  }\n",
              "\n",
              "  @keyframes spin {\n",
              "    0% {\n",
              "      border-color: transparent;\n",
              "      border-bottom-color: var(--fill-color);\n",
              "      border-left-color: var(--fill-color);\n",
              "    }\n",
              "    20% {\n",
              "      border-color: transparent;\n",
              "      border-left-color: var(--fill-color);\n",
              "      border-top-color: var(--fill-color);\n",
              "    }\n",
              "    30% {\n",
              "      border-color: transparent;\n",
              "      border-left-color: var(--fill-color);\n",
              "      border-top-color: var(--fill-color);\n",
              "      border-right-color: var(--fill-color);\n",
              "    }\n",
              "    40% {\n",
              "      border-color: transparent;\n",
              "      border-right-color: var(--fill-color);\n",
              "      border-top-color: var(--fill-color);\n",
              "    }\n",
              "    60% {\n",
              "      border-color: transparent;\n",
              "      border-right-color: var(--fill-color);\n",
              "    }\n",
              "    80% {\n",
              "      border-color: transparent;\n",
              "      border-right-color: var(--fill-color);\n",
              "      border-bottom-color: var(--fill-color);\n",
              "    }\n",
              "    90% {\n",
              "      border-color: transparent;\n",
              "      border-bottom-color: var(--fill-color);\n",
              "    }\n",
              "  }\n",
              "</style>\n",
              "\n",
              "  <script>\n",
              "    async function quickchart(key) {\n",
              "      const quickchartButtonEl =\n",
              "        document.querySelector('#' + key + ' button');\n",
              "      quickchartButtonEl.disabled = true;  // To prevent multiple clicks.\n",
              "      quickchartButtonEl.classList.add('colab-df-spinner');\n",
              "      try {\n",
              "        const charts = await google.colab.kernel.invokeFunction(\n",
              "            'suggestCharts', [key], {});\n",
              "      } catch (error) {\n",
              "        console.error('Error during call to suggestCharts:', error);\n",
              "      }\n",
              "      quickchartButtonEl.classList.remove('colab-df-spinner');\n",
              "      quickchartButtonEl.classList.add('colab-df-quickchart-complete');\n",
              "    }\n",
              "    (() => {\n",
              "      let quickchartButtonEl =\n",
              "        document.querySelector('#df-bbf7d7f2-62f4-438c-b3e1-d59e9c5a698c button');\n",
              "      quickchartButtonEl.style.display =\n",
              "        google.colab.kernel.accessAllowed ? 'block' : 'none';\n",
              "    })();\n",
              "  </script>\n",
              "</div>\n",
              "    </div>\n",
              "  </div>\n"
            ]
          },
          "metadata": {},
          "execution_count": 3
        }
      ]
    },
    {
      "cell_type": "code",
      "source": [
        "print(\"My data's shape is:\", df.shape)"
      ],
      "metadata": {
        "colab": {
          "base_uri": "https://localhost:8080/"
        },
        "id": "Hc78CoD08tw_",
        "outputId": "57e9ad75-b7fd-44ba-f0dc-a4abc3736b43"
      },
      "execution_count": 4,
      "outputs": [
        {
          "output_type": "stream",
          "name": "stdout",
          "text": [
            "My data's shape is: (40046, 4)\n"
          ]
        }
      ]
    },
    {
      "cell_type": "code",
      "source": [
        "df['rating'] = df['rating'].replace({1:1,-1:0,0:0})\n",
        "df.head()"
      ],
      "metadata": {
        "colab": {
          "base_uri": "https://localhost:8080/",
          "height": 206
        },
        "id": "woRFUdFr4kvN",
        "outputId": "df39e839-8cf3-4a27-d945-013f5587b006"
      },
      "execution_count": 5,
      "outputs": [
        {
          "output_type": "execute_result",
          "data": {
            "text/plain": [
              "   Unnamed: 0                                 review_description  rating  \\\n",
              "0           0                                               رائع       1   \n",
              "1           1  برنامج رائع جدا يساعد على تلبيه الاحتياجات بشك...       1   \n",
              "2           2  التطبيق لا يغتح دائما بيعطيني لا يوجد اتصال با...       0   \n",
              "3           3                 لماذا لا يمكننا طلب من ماكدونالدز؟       0   \n",
              "4           4  البرنامج بيظهر كل المطاعم و مغلقه مع انها بتكو...       0   \n",
              "\n",
              "  company  \n",
              "0  talbat  \n",
              "1  talbat  \n",
              "2  talbat  \n",
              "3  talbat  \n",
              "4  talbat  "
            ],
            "text/html": [
              "\n",
              "  <div id=\"df-3d6ce51b-6276-425a-bb2f-8b6f3171c9c7\" class=\"colab-df-container\">\n",
              "    <div>\n",
              "<style scoped>\n",
              "    .dataframe tbody tr th:only-of-type {\n",
              "        vertical-align: middle;\n",
              "    }\n",
              "\n",
              "    .dataframe tbody tr th {\n",
              "        vertical-align: top;\n",
              "    }\n",
              "\n",
              "    .dataframe thead th {\n",
              "        text-align: right;\n",
              "    }\n",
              "</style>\n",
              "<table border=\"1\" class=\"dataframe\">\n",
              "  <thead>\n",
              "    <tr style=\"text-align: right;\">\n",
              "      <th></th>\n",
              "      <th>Unnamed: 0</th>\n",
              "      <th>review_description</th>\n",
              "      <th>rating</th>\n",
              "      <th>company</th>\n",
              "    </tr>\n",
              "  </thead>\n",
              "  <tbody>\n",
              "    <tr>\n",
              "      <th>0</th>\n",
              "      <td>0</td>\n",
              "      <td>رائع</td>\n",
              "      <td>1</td>\n",
              "      <td>talbat</td>\n",
              "    </tr>\n",
              "    <tr>\n",
              "      <th>1</th>\n",
              "      <td>1</td>\n",
              "      <td>برنامج رائع جدا يساعد على تلبيه الاحتياجات بشك...</td>\n",
              "      <td>1</td>\n",
              "      <td>talbat</td>\n",
              "    </tr>\n",
              "    <tr>\n",
              "      <th>2</th>\n",
              "      <td>2</td>\n",
              "      <td>التطبيق لا يغتح دائما بيعطيني لا يوجد اتصال با...</td>\n",
              "      <td>0</td>\n",
              "      <td>talbat</td>\n",
              "    </tr>\n",
              "    <tr>\n",
              "      <th>3</th>\n",
              "      <td>3</td>\n",
              "      <td>لماذا لا يمكننا طلب من ماكدونالدز؟</td>\n",
              "      <td>0</td>\n",
              "      <td>talbat</td>\n",
              "    </tr>\n",
              "    <tr>\n",
              "      <th>4</th>\n",
              "      <td>4</td>\n",
              "      <td>البرنامج بيظهر كل المطاعم و مغلقه مع انها بتكو...</td>\n",
              "      <td>0</td>\n",
              "      <td>talbat</td>\n",
              "    </tr>\n",
              "  </tbody>\n",
              "</table>\n",
              "</div>\n",
              "    <div class=\"colab-df-buttons\">\n",
              "\n",
              "  <div class=\"colab-df-container\">\n",
              "    <button class=\"colab-df-convert\" onclick=\"convertToInteractive('df-3d6ce51b-6276-425a-bb2f-8b6f3171c9c7')\"\n",
              "            title=\"Convert this dataframe to an interactive table.\"\n",
              "            style=\"display:none;\">\n",
              "\n",
              "  <svg xmlns=\"http://www.w3.org/2000/svg\" height=\"24px\" viewBox=\"0 -960 960 960\">\n",
              "    <path d=\"M120-120v-720h720v720H120Zm60-500h600v-160H180v160Zm220 220h160v-160H400v160Zm0 220h160v-160H400v160ZM180-400h160v-160H180v160Zm440 0h160v-160H620v160ZM180-180h160v-160H180v160Zm440 0h160v-160H620v160Z\"/>\n",
              "  </svg>\n",
              "    </button>\n",
              "\n",
              "  <style>\n",
              "    .colab-df-container {\n",
              "      display:flex;\n",
              "      gap: 12px;\n",
              "    }\n",
              "\n",
              "    .colab-df-convert {\n",
              "      background-color: #E8F0FE;\n",
              "      border: none;\n",
              "      border-radius: 50%;\n",
              "      cursor: pointer;\n",
              "      display: none;\n",
              "      fill: #1967D2;\n",
              "      height: 32px;\n",
              "      padding: 0 0 0 0;\n",
              "      width: 32px;\n",
              "    }\n",
              "\n",
              "    .colab-df-convert:hover {\n",
              "      background-color: #E2EBFA;\n",
              "      box-shadow: 0px 1px 2px rgba(60, 64, 67, 0.3), 0px 1px 3px 1px rgba(60, 64, 67, 0.15);\n",
              "      fill: #174EA6;\n",
              "    }\n",
              "\n",
              "    .colab-df-buttons div {\n",
              "      margin-bottom: 4px;\n",
              "    }\n",
              "\n",
              "    [theme=dark] .colab-df-convert {\n",
              "      background-color: #3B4455;\n",
              "      fill: #D2E3FC;\n",
              "    }\n",
              "\n",
              "    [theme=dark] .colab-df-convert:hover {\n",
              "      background-color: #434B5C;\n",
              "      box-shadow: 0px 1px 3px 1px rgba(0, 0, 0, 0.15);\n",
              "      filter: drop-shadow(0px 1px 2px rgba(0, 0, 0, 0.3));\n",
              "      fill: #FFFFFF;\n",
              "    }\n",
              "  </style>\n",
              "\n",
              "    <script>\n",
              "      const buttonEl =\n",
              "        document.querySelector('#df-3d6ce51b-6276-425a-bb2f-8b6f3171c9c7 button.colab-df-convert');\n",
              "      buttonEl.style.display =\n",
              "        google.colab.kernel.accessAllowed ? 'block' : 'none';\n",
              "\n",
              "      async function convertToInteractive(key) {\n",
              "        const element = document.querySelector('#df-3d6ce51b-6276-425a-bb2f-8b6f3171c9c7');\n",
              "        const dataTable =\n",
              "          await google.colab.kernel.invokeFunction('convertToInteractive',\n",
              "                                                    [key], {});\n",
              "        if (!dataTable) return;\n",
              "\n",
              "        const docLinkHtml = 'Like what you see? Visit the ' +\n",
              "          '<a target=\"_blank\" href=https://colab.research.google.com/notebooks/data_table.ipynb>data table notebook</a>'\n",
              "          + ' to learn more about interactive tables.';\n",
              "        element.innerHTML = '';\n",
              "        dataTable['output_type'] = 'display_data';\n",
              "        await google.colab.output.renderOutput(dataTable, element);\n",
              "        const docLink = document.createElement('div');\n",
              "        docLink.innerHTML = docLinkHtml;\n",
              "        element.appendChild(docLink);\n",
              "      }\n",
              "    </script>\n",
              "  </div>\n",
              "\n",
              "\n",
              "<div id=\"df-7a9f1145-4c8d-422f-bc95-8f43a29490a6\">\n",
              "  <button class=\"colab-df-quickchart\" onclick=\"quickchart('df-7a9f1145-4c8d-422f-bc95-8f43a29490a6')\"\n",
              "            title=\"Suggest charts.\"\n",
              "            style=\"display:none;\">\n",
              "\n",
              "<svg xmlns=\"http://www.w3.org/2000/svg\" height=\"24px\"viewBox=\"0 0 24 24\"\n",
              "     width=\"24px\">\n",
              "    <g>\n",
              "        <path d=\"M19 3H5c-1.1 0-2 .9-2 2v14c0 1.1.9 2 2 2h14c1.1 0 2-.9 2-2V5c0-1.1-.9-2-2-2zM9 17H7v-7h2v7zm4 0h-2V7h2v10zm4 0h-2v-4h2v4z\"/>\n",
              "    </g>\n",
              "</svg>\n",
              "  </button>\n",
              "\n",
              "<style>\n",
              "  .colab-df-quickchart {\n",
              "      --bg-color: #E8F0FE;\n",
              "      --fill-color: #1967D2;\n",
              "      --hover-bg-color: #E2EBFA;\n",
              "      --hover-fill-color: #174EA6;\n",
              "      --disabled-fill-color: #AAA;\n",
              "      --disabled-bg-color: #DDD;\n",
              "  }\n",
              "\n",
              "  [theme=dark] .colab-df-quickchart {\n",
              "      --bg-color: #3B4455;\n",
              "      --fill-color: #D2E3FC;\n",
              "      --hover-bg-color: #434B5C;\n",
              "      --hover-fill-color: #FFFFFF;\n",
              "      --disabled-bg-color: #3B4455;\n",
              "      --disabled-fill-color: #666;\n",
              "  }\n",
              "\n",
              "  .colab-df-quickchart {\n",
              "    background-color: var(--bg-color);\n",
              "    border: none;\n",
              "    border-radius: 50%;\n",
              "    cursor: pointer;\n",
              "    display: none;\n",
              "    fill: var(--fill-color);\n",
              "    height: 32px;\n",
              "    padding: 0;\n",
              "    width: 32px;\n",
              "  }\n",
              "\n",
              "  .colab-df-quickchart:hover {\n",
              "    background-color: var(--hover-bg-color);\n",
              "    box-shadow: 0 1px 2px rgba(60, 64, 67, 0.3), 0 1px 3px 1px rgba(60, 64, 67, 0.15);\n",
              "    fill: var(--button-hover-fill-color);\n",
              "  }\n",
              "\n",
              "  .colab-df-quickchart-complete:disabled,\n",
              "  .colab-df-quickchart-complete:disabled:hover {\n",
              "    background-color: var(--disabled-bg-color);\n",
              "    fill: var(--disabled-fill-color);\n",
              "    box-shadow: none;\n",
              "  }\n",
              "\n",
              "  .colab-df-spinner {\n",
              "    border: 2px solid var(--fill-color);\n",
              "    border-color: transparent;\n",
              "    border-bottom-color: var(--fill-color);\n",
              "    animation:\n",
              "      spin 1s steps(1) infinite;\n",
              "  }\n",
              "\n",
              "  @keyframes spin {\n",
              "    0% {\n",
              "      border-color: transparent;\n",
              "      border-bottom-color: var(--fill-color);\n",
              "      border-left-color: var(--fill-color);\n",
              "    }\n",
              "    20% {\n",
              "      border-color: transparent;\n",
              "      border-left-color: var(--fill-color);\n",
              "      border-top-color: var(--fill-color);\n",
              "    }\n",
              "    30% {\n",
              "      border-color: transparent;\n",
              "      border-left-color: var(--fill-color);\n",
              "      border-top-color: var(--fill-color);\n",
              "      border-right-color: var(--fill-color);\n",
              "    }\n",
              "    40% {\n",
              "      border-color: transparent;\n",
              "      border-right-color: var(--fill-color);\n",
              "      border-top-color: var(--fill-color);\n",
              "    }\n",
              "    60% {\n",
              "      border-color: transparent;\n",
              "      border-right-color: var(--fill-color);\n",
              "    }\n",
              "    80% {\n",
              "      border-color: transparent;\n",
              "      border-right-color: var(--fill-color);\n",
              "      border-bottom-color: var(--fill-color);\n",
              "    }\n",
              "    90% {\n",
              "      border-color: transparent;\n",
              "      border-bottom-color: var(--fill-color);\n",
              "    }\n",
              "  }\n",
              "</style>\n",
              "\n",
              "  <script>\n",
              "    async function quickchart(key) {\n",
              "      const quickchartButtonEl =\n",
              "        document.querySelector('#' + key + ' button');\n",
              "      quickchartButtonEl.disabled = true;  // To prevent multiple clicks.\n",
              "      quickchartButtonEl.classList.add('colab-df-spinner');\n",
              "      try {\n",
              "        const charts = await google.colab.kernel.invokeFunction(\n",
              "            'suggestCharts', [key], {});\n",
              "      } catch (error) {\n",
              "        console.error('Error during call to suggestCharts:', error);\n",
              "      }\n",
              "      quickchartButtonEl.classList.remove('colab-df-spinner');\n",
              "      quickchartButtonEl.classList.add('colab-df-quickchart-complete');\n",
              "    }\n",
              "    (() => {\n",
              "      let quickchartButtonEl =\n",
              "        document.querySelector('#df-7a9f1145-4c8d-422f-bc95-8f43a29490a6 button');\n",
              "      quickchartButtonEl.style.display =\n",
              "        google.colab.kernel.accessAllowed ? 'block' : 'none';\n",
              "    })();\n",
              "  </script>\n",
              "</div>\n",
              "    </div>\n",
              "  </div>\n"
            ]
          },
          "metadata": {},
          "execution_count": 5
        }
      ]
    },
    {
      "cell_type": "code",
      "source": [
        "text_df = df[[ 'review_description', 'rating']]\n",
        "text_df.head()"
      ],
      "metadata": {
        "colab": {
          "base_uri": "https://localhost:8080/",
          "height": 206
        },
        "id": "Kj0LG9y74of4",
        "outputId": "f8b34f34-c3f5-4836-b044-61cb713c7105"
      },
      "execution_count": 6,
      "outputs": [
        {
          "output_type": "execute_result",
          "data": {
            "text/plain": [
              "                                  review_description  rating\n",
              "0                                               رائع       1\n",
              "1  برنامج رائع جدا يساعد على تلبيه الاحتياجات بشك...       1\n",
              "2  التطبيق لا يغتح دائما بيعطيني لا يوجد اتصال با...       0\n",
              "3                 لماذا لا يمكننا طلب من ماكدونالدز؟       0\n",
              "4  البرنامج بيظهر كل المطاعم و مغلقه مع انها بتكو...       0"
            ],
            "text/html": [
              "\n",
              "  <div id=\"df-abd56054-ceca-42bc-bc29-e5fc8ab4b940\" class=\"colab-df-container\">\n",
              "    <div>\n",
              "<style scoped>\n",
              "    .dataframe tbody tr th:only-of-type {\n",
              "        vertical-align: middle;\n",
              "    }\n",
              "\n",
              "    .dataframe tbody tr th {\n",
              "        vertical-align: top;\n",
              "    }\n",
              "\n",
              "    .dataframe thead th {\n",
              "        text-align: right;\n",
              "    }\n",
              "</style>\n",
              "<table border=\"1\" class=\"dataframe\">\n",
              "  <thead>\n",
              "    <tr style=\"text-align: right;\">\n",
              "      <th></th>\n",
              "      <th>review_description</th>\n",
              "      <th>rating</th>\n",
              "    </tr>\n",
              "  </thead>\n",
              "  <tbody>\n",
              "    <tr>\n",
              "      <th>0</th>\n",
              "      <td>رائع</td>\n",
              "      <td>1</td>\n",
              "    </tr>\n",
              "    <tr>\n",
              "      <th>1</th>\n",
              "      <td>برنامج رائع جدا يساعد على تلبيه الاحتياجات بشك...</td>\n",
              "      <td>1</td>\n",
              "    </tr>\n",
              "    <tr>\n",
              "      <th>2</th>\n",
              "      <td>التطبيق لا يغتح دائما بيعطيني لا يوجد اتصال با...</td>\n",
              "      <td>0</td>\n",
              "    </tr>\n",
              "    <tr>\n",
              "      <th>3</th>\n",
              "      <td>لماذا لا يمكننا طلب من ماكدونالدز؟</td>\n",
              "      <td>0</td>\n",
              "    </tr>\n",
              "    <tr>\n",
              "      <th>4</th>\n",
              "      <td>البرنامج بيظهر كل المطاعم و مغلقه مع انها بتكو...</td>\n",
              "      <td>0</td>\n",
              "    </tr>\n",
              "  </tbody>\n",
              "</table>\n",
              "</div>\n",
              "    <div class=\"colab-df-buttons\">\n",
              "\n",
              "  <div class=\"colab-df-container\">\n",
              "    <button class=\"colab-df-convert\" onclick=\"convertToInteractive('df-abd56054-ceca-42bc-bc29-e5fc8ab4b940')\"\n",
              "            title=\"Convert this dataframe to an interactive table.\"\n",
              "            style=\"display:none;\">\n",
              "\n",
              "  <svg xmlns=\"http://www.w3.org/2000/svg\" height=\"24px\" viewBox=\"0 -960 960 960\">\n",
              "    <path d=\"M120-120v-720h720v720H120Zm60-500h600v-160H180v160Zm220 220h160v-160H400v160Zm0 220h160v-160H400v160ZM180-400h160v-160H180v160Zm440 0h160v-160H620v160ZM180-180h160v-160H180v160Zm440 0h160v-160H620v160Z\"/>\n",
              "  </svg>\n",
              "    </button>\n",
              "\n",
              "  <style>\n",
              "    .colab-df-container {\n",
              "      display:flex;\n",
              "      gap: 12px;\n",
              "    }\n",
              "\n",
              "    .colab-df-convert {\n",
              "      background-color: #E8F0FE;\n",
              "      border: none;\n",
              "      border-radius: 50%;\n",
              "      cursor: pointer;\n",
              "      display: none;\n",
              "      fill: #1967D2;\n",
              "      height: 32px;\n",
              "      padding: 0 0 0 0;\n",
              "      width: 32px;\n",
              "    }\n",
              "\n",
              "    .colab-df-convert:hover {\n",
              "      background-color: #E2EBFA;\n",
              "      box-shadow: 0px 1px 2px rgba(60, 64, 67, 0.3), 0px 1px 3px 1px rgba(60, 64, 67, 0.15);\n",
              "      fill: #174EA6;\n",
              "    }\n",
              "\n",
              "    .colab-df-buttons div {\n",
              "      margin-bottom: 4px;\n",
              "    }\n",
              "\n",
              "    [theme=dark] .colab-df-convert {\n",
              "      background-color: #3B4455;\n",
              "      fill: #D2E3FC;\n",
              "    }\n",
              "\n",
              "    [theme=dark] .colab-df-convert:hover {\n",
              "      background-color: #434B5C;\n",
              "      box-shadow: 0px 1px 3px 1px rgba(0, 0, 0, 0.15);\n",
              "      filter: drop-shadow(0px 1px 2px rgba(0, 0, 0, 0.3));\n",
              "      fill: #FFFFFF;\n",
              "    }\n",
              "  </style>\n",
              "\n",
              "    <script>\n",
              "      const buttonEl =\n",
              "        document.querySelector('#df-abd56054-ceca-42bc-bc29-e5fc8ab4b940 button.colab-df-convert');\n",
              "      buttonEl.style.display =\n",
              "        google.colab.kernel.accessAllowed ? 'block' : 'none';\n",
              "\n",
              "      async function convertToInteractive(key) {\n",
              "        const element = document.querySelector('#df-abd56054-ceca-42bc-bc29-e5fc8ab4b940');\n",
              "        const dataTable =\n",
              "          await google.colab.kernel.invokeFunction('convertToInteractive',\n",
              "                                                    [key], {});\n",
              "        if (!dataTable) return;\n",
              "\n",
              "        const docLinkHtml = 'Like what you see? Visit the ' +\n",
              "          '<a target=\"_blank\" href=https://colab.research.google.com/notebooks/data_table.ipynb>data table notebook</a>'\n",
              "          + ' to learn more about interactive tables.';\n",
              "        element.innerHTML = '';\n",
              "        dataTable['output_type'] = 'display_data';\n",
              "        await google.colab.output.renderOutput(dataTable, element);\n",
              "        const docLink = document.createElement('div');\n",
              "        docLink.innerHTML = docLinkHtml;\n",
              "        element.appendChild(docLink);\n",
              "      }\n",
              "    </script>\n",
              "  </div>\n",
              "\n",
              "\n",
              "<div id=\"df-f464e46c-4112-454a-a87b-02df9b00066d\">\n",
              "  <button class=\"colab-df-quickchart\" onclick=\"quickchart('df-f464e46c-4112-454a-a87b-02df9b00066d')\"\n",
              "            title=\"Suggest charts.\"\n",
              "            style=\"display:none;\">\n",
              "\n",
              "<svg xmlns=\"http://www.w3.org/2000/svg\" height=\"24px\"viewBox=\"0 0 24 24\"\n",
              "     width=\"24px\">\n",
              "    <g>\n",
              "        <path d=\"M19 3H5c-1.1 0-2 .9-2 2v14c0 1.1.9 2 2 2h14c1.1 0 2-.9 2-2V5c0-1.1-.9-2-2-2zM9 17H7v-7h2v7zm4 0h-2V7h2v10zm4 0h-2v-4h2v4z\"/>\n",
              "    </g>\n",
              "</svg>\n",
              "  </button>\n",
              "\n",
              "<style>\n",
              "  .colab-df-quickchart {\n",
              "      --bg-color: #E8F0FE;\n",
              "      --fill-color: #1967D2;\n",
              "      --hover-bg-color: #E2EBFA;\n",
              "      --hover-fill-color: #174EA6;\n",
              "      --disabled-fill-color: #AAA;\n",
              "      --disabled-bg-color: #DDD;\n",
              "  }\n",
              "\n",
              "  [theme=dark] .colab-df-quickchart {\n",
              "      --bg-color: #3B4455;\n",
              "      --fill-color: #D2E3FC;\n",
              "      --hover-bg-color: #434B5C;\n",
              "      --hover-fill-color: #FFFFFF;\n",
              "      --disabled-bg-color: #3B4455;\n",
              "      --disabled-fill-color: #666;\n",
              "  }\n",
              "\n",
              "  .colab-df-quickchart {\n",
              "    background-color: var(--bg-color);\n",
              "    border: none;\n",
              "    border-radius: 50%;\n",
              "    cursor: pointer;\n",
              "    display: none;\n",
              "    fill: var(--fill-color);\n",
              "    height: 32px;\n",
              "    padding: 0;\n",
              "    width: 32px;\n",
              "  }\n",
              "\n",
              "  .colab-df-quickchart:hover {\n",
              "    background-color: var(--hover-bg-color);\n",
              "    box-shadow: 0 1px 2px rgba(60, 64, 67, 0.3), 0 1px 3px 1px rgba(60, 64, 67, 0.15);\n",
              "    fill: var(--button-hover-fill-color);\n",
              "  }\n",
              "\n",
              "  .colab-df-quickchart-complete:disabled,\n",
              "  .colab-df-quickchart-complete:disabled:hover {\n",
              "    background-color: var(--disabled-bg-color);\n",
              "    fill: var(--disabled-fill-color);\n",
              "    box-shadow: none;\n",
              "  }\n",
              "\n",
              "  .colab-df-spinner {\n",
              "    border: 2px solid var(--fill-color);\n",
              "    border-color: transparent;\n",
              "    border-bottom-color: var(--fill-color);\n",
              "    animation:\n",
              "      spin 1s steps(1) infinite;\n",
              "  }\n",
              "\n",
              "  @keyframes spin {\n",
              "    0% {\n",
              "      border-color: transparent;\n",
              "      border-bottom-color: var(--fill-color);\n",
              "      border-left-color: var(--fill-color);\n",
              "    }\n",
              "    20% {\n",
              "      border-color: transparent;\n",
              "      border-left-color: var(--fill-color);\n",
              "      border-top-color: var(--fill-color);\n",
              "    }\n",
              "    30% {\n",
              "      border-color: transparent;\n",
              "      border-left-color: var(--fill-color);\n",
              "      border-top-color: var(--fill-color);\n",
              "      border-right-color: var(--fill-color);\n",
              "    }\n",
              "    40% {\n",
              "      border-color: transparent;\n",
              "      border-right-color: var(--fill-color);\n",
              "      border-top-color: var(--fill-color);\n",
              "    }\n",
              "    60% {\n",
              "      border-color: transparent;\n",
              "      border-right-color: var(--fill-color);\n",
              "    }\n",
              "    80% {\n",
              "      border-color: transparent;\n",
              "      border-right-color: var(--fill-color);\n",
              "      border-bottom-color: var(--fill-color);\n",
              "    }\n",
              "    90% {\n",
              "      border-color: transparent;\n",
              "      border-bottom-color: var(--fill-color);\n",
              "    }\n",
              "  }\n",
              "</style>\n",
              "\n",
              "  <script>\n",
              "    async function quickchart(key) {\n",
              "      const quickchartButtonEl =\n",
              "        document.querySelector('#' + key + ' button');\n",
              "      quickchartButtonEl.disabled = true;  // To prevent multiple clicks.\n",
              "      quickchartButtonEl.classList.add('colab-df-spinner');\n",
              "      try {\n",
              "        const charts = await google.colab.kernel.invokeFunction(\n",
              "            'suggestCharts', [key], {});\n",
              "      } catch (error) {\n",
              "        console.error('Error during call to suggestCharts:', error);\n",
              "      }\n",
              "      quickchartButtonEl.classList.remove('colab-df-spinner');\n",
              "      quickchartButtonEl.classList.add('colab-df-quickchart-complete');\n",
              "    }\n",
              "    (() => {\n",
              "      let quickchartButtonEl =\n",
              "        document.querySelector('#df-f464e46c-4112-454a-a87b-02df9b00066d button');\n",
              "      quickchartButtonEl.style.display =\n",
              "        google.colab.kernel.accessAllowed ? 'block' : 'none';\n",
              "    })();\n",
              "  </script>\n",
              "</div>\n",
              "    </div>\n",
              "  </div>\n"
            ]
          },
          "metadata": {},
          "execution_count": 6
        }
      ]
    },
    {
      "cell_type": "code",
      "source": [
        "text_df['rating'].value_counts()"
      ],
      "metadata": {
        "colab": {
          "base_uri": "https://localhost:8080/"
        },
        "id": "ybFmMYAt80lb",
        "outputId": "17cffabf-7609-481a-8662-4e8f3c10f307"
      },
      "execution_count": 7,
      "outputs": [
        {
          "output_type": "execute_result",
          "data": {
            "text/plain": [
              "1    23921\n",
              "0    16125\n",
              "Name: rating, dtype: int64"
            ]
          },
          "metadata": {},
          "execution_count": 7
        }
      ]
    },
    {
      "cell_type": "code",
      "source": [
        "print(\"before dropping NaN text_df: \",text_df.shape)\n",
        "text_df.dropna(inplace=True)\n",
        "text_df.head()\n",
        "print(\"After dropping NaN text_df: \",text_df.shape)"
      ],
      "metadata": {
        "colab": {
          "base_uri": "https://localhost:8080/"
        },
        "id": "IAHwD-Qu4rN-",
        "outputId": "42c02156-6d6f-4075-ff65-7e04a7bc83b2"
      },
      "execution_count": 8,
      "outputs": [
        {
          "output_type": "stream",
          "name": "stdout",
          "text": [
            "before dropping NaN text_df:  (40046, 2)\n",
            "After dropping NaN text_df:  (40045, 2)\n"
          ]
        }
      ]
    },
    {
      "cell_type": "code",
      "source": [
        "print(\"Before dropping text_df: \",text_df.shape)\n",
        "text_df.drop_duplicates(inplace = True)\n",
        "print(\"After dropping text_df: \",text_df.shape)"
      ],
      "metadata": {
        "colab": {
          "base_uri": "https://localhost:8080/"
        },
        "id": "OYfTsk--5Jgo",
        "outputId": "03c7a945-80a3-4d58-b336-74ce7240b530"
      },
      "execution_count": 9,
      "outputs": [
        {
          "output_type": "stream",
          "name": "stdout",
          "text": [
            "Before dropping text_df:  (40045, 2)\n",
            "After dropping text_df:  (39095, 2)\n"
          ]
        }
      ]
    },
    {
      "cell_type": "code",
      "source": [
        "import plotly.express as px\n",
        "\n",
        "FreqOfWords =text_df [\"review_description\"].str.split(expand=True).stack().value_counts()\n",
        "FreqOfWords_top200 = FreqOfWords[:200]\n",
        "\n",
        "fig = px.treemap(FreqOfWords_top200, path=[FreqOfWords_top200.index], values=0, width=1000, height=600)\n",
        "fig.update_layout(title_text='Top Frequent 200 Words in the Dataset (After Cleaning)',\n",
        "                  title_x=0.5, title_font=dict(size=30)\n",
        "                  )\n",
        "fig.update_traces(textinfo=\"label+value\")\n",
        "fig.show()"
      ],
      "metadata": {
        "colab": {
          "base_uri": "https://localhost:8080/",
          "height": 617
        },
        "id": "EMceZczc86Gd",
        "outputId": "354b4d1b-60d3-4c99-a23c-92f693f8b3f0"
      },
      "execution_count": 10,
      "outputs": [
        {
          "output_type": "display_data",
          "data": {
            "text/html": [
              "<html>\n",
              "<head><meta charset=\"utf-8\" /></head>\n",
              "<body>\n",
              "    <div>            <script src=\"https://cdnjs.cloudflare.com/ajax/libs/mathjax/2.7.5/MathJax.js?config=TeX-AMS-MML_SVG\"></script><script type=\"text/javascript\">if (window.MathJax && window.MathJax.Hub && window.MathJax.Hub.Config) {window.MathJax.Hub.Config({SVG: {font: \"STIX-Web\"}});}</script>                <script type=\"text/javascript\">window.PlotlyConfig = {MathJaxConfig: 'local'};</script>\n",
              "        <script charset=\"utf-8\" src=\"https://cdn.plot.ly/plotly-2.24.1.min.js\"></script>                <div id=\"3668cfdd-0110-4f0d-a3c8-ac97f99bb7aa\" class=\"plotly-graph-div\" style=\"height:600px; width:1000px;\"></div>            <script type=\"text/javascript\">                                    window.PLOTLYENV=window.PLOTLYENV || {};                                    if (document.getElementById(\"3668cfdd-0110-4f0d-a3c8-ac97f99bb7aa\")) {                    Plotly.newPlot(                        \"3668cfdd-0110-4f0d-a3c8-ac97f99bb7aa\",                        [{\"branchvalues\":\"total\",\"domain\":{\"x\":[0.0,1.0],\"y\":[0.0,1.0]},\"hovertemplate\":\"labels=%{label}\\u003cbr\\u003e0=%{value}\\u003cbr\\u003eparent=%{parent}\\u003cbr\\u003eid=%{id}\\u003cextra\\u003e\\u003c\\u002fextra\\u003e\",\"ids\":[\".\",\"..\",\"...\",\"\\u060c\",\"\\u0623\\u0641\\u0636\\u0644\",\"\\u0623\\u0643\\u062b\\u0631\",\"\\u0623\\u0646\",\"\\u0623\\u0648\",\"\\u0625\\u0644\\u0649\",\"\\u0627\\u062a\\u0645\\u0646\\u0649\",\"\\u0627\\u062d\\u0633\\u0646\",\"\\u0627\\u0630\\u0627\",\"\\u0627\\u0631\\u062c\\u0648\",\"\\u0627\\u0633\\u0648\\u0621\",\"\\u0627\\u0637\\u0644\\u0628\",\"\\u0627\\u0641\\u0636\\u0644\",\"\\u0627\\u0643\\u062a\\u0631\",\"\\u0627\\u0643\\u062b\\u0631\",\"\\u0627\\u0644\\u0627\",\"\\u0627\\u0644\\u0627\\u0643\\u0644\",\"\\u0627\\u0644\\u0627\\u0648\\u0631\\u062f\\u0631\",\"\\u0627\\u0644\\u0628\\u0631\\u0646\\u0627\\u0645\\u062c\",\"\\u0627\\u0644\\u062a\\u062d\\u062f\\u064a\\u062b\",\"\\u0627\\u0644\\u062a\\u0637\\u0628\\u064a\\u0642\",\"\\u0627\\u0644\\u062a\\u0639\\u0627\\u0645\\u0644\",\"\\u0627\\u0644\\u062a\\u0648\\u0635\\u064a\\u0644\",\"\\u0627\\u0644\\u062e\\u062f\\u0645\\u0629\",\"\\u0627\\u0644\\u0631\\u062f\",\"\\u0627\\u0644\\u0637\\u0639\\u0627\\u0645\",\"\\u0627\\u0644\\u0637\\u0644\\u0628\",\"\\u0627\\u0644\\u0637\\u0644\\u0628\\u0627\\u062a\",\"\\u0627\\u0644\\u0639\\u0645\\u0644\\u0627\\u0621\",\"\\u0627\\u0644\\u0644\\u0647\",\"\\u0627\\u0644\\u0644\\u064a\",\"\\u0627\\u0644\\u0645\\u0628\\u0644\\u063a\",\"\\u0627\\u0644\\u0645\\u0634\\u0643\\u0644\\u0629\",\"\\u0627\\u0644\\u0645\\u0634\\u0643\\u0644\\u0647\",\"\\u0627\\u0644\\u0645\\u0637\\u0627\\u0639\\u0645\",\"\\u0627\\u0644\\u0645\\u0637\\u0639\\u0645\",\"\\u0627\\u0644\\u0645\\u0648\\u0642\\u0639\",\"\\u0627\\u0644\\u0646\\u0627\\u0633\",\"\\u0627\\u0644\\u0648\\u0642\\u062a\",\"\\u0627\\u0644\\u0649\",\"\\u0627\\u0644\\u064a\",\"\\u0627\\u0646\",\"\\u0627\\u0646\\u0627\",\"\\u0627\\u0646\\u0635\\u062d\",\"\\u0627\\u0646\\u0635\\u062d\\u0643\\u0645\",\"\\u0627\\u0646\\u0647\",\"\\u0627\\u0646\\u064a\",\"\\u0627\\u0648\",\"\\u0627\\u0648\\u0644\",\"\\u0627\\u064a\",\"\\u0627\\u064a\\u0647\",\"\\u0628\",\"\\u0628\\u0627\\u0631\\u062f\",\"\\u0628\\u062f\\u0648\\u0646\",\"\\u0628\\u0631\\u0646\\u0627\\u0645\\u062c\",\"\\u0628\\u0633\",\"\\u0628\\u0635\\u0631\\u0627\\u062d\\u0647\",\"\\u0628\\u0639\\u062f\",\"\\u0628\\u0639\\u0636\",\"\\u0628\\u0647\",\"\\u062a\\u062c\\u0631\\u0628\\u0629\",\"\\u062a\\u062c\\u0631\\u0628\\u0647\",\"\\u062a\\u062d\\u062f\\u064a\\u062b\",\"\\u062a\\u0637\\u0628\\u064a\\u0642\",\"\\u062a\\u0645\",\"\\u062a\\u0648\\u0635\\u064a\\u0644\",\"\\u062c\\u062f\\u0622\",\"\\u062c\\u062f\\u0627\",\"\\u062c\\u062f\\u0627\\u064b\",\"\\u062c\\u0645\\u064a\\u0639\",\"\\u062c\\u0645\\u064a\\u0644\",\"\\u062c\\u064a\\u062f\",\"\\u062d\\u0627\\u062c\\u0647\",\"\\u062d\\u062a\\u0649\",\"\\u062d\\u062f\",\"\\u062d\\u0644\",\"\\u062d\\u0644\\u0648\",\"\\u062e\\u062f\\u0645\\u0629\",\"\\u062e\\u062f\\u0645\\u0647\",\"\\u062e\\u0631\\u0627\",\"\\u062e\\u0635\\u0645\",\"\\u062f\\u0647\",\"\\u0631\\u0627\\u0626\\u0639\",\"\\u0631\\u0642\\u0645\",\"\\u0631\\u0648\\u0639\\u0647\",\"\\u0632\\u0628\\u0627\\u0644\\u0647\",\"\\u0632\\u0641\\u062a\",\"\\u0632\\u064a\",\"\\u0633\\u0626\",\"\\u0633\\u0627\\u0639\\u0629\",\"\\u0633\\u0627\\u0639\\u062a\\u064a\\u0646\",\"\\u0633\\u0627\\u0639\\u0647\",\"\\u0633\\u0631\\u064a\\u0639\",\"\\u0633\\u0639\\u0631\",\"\\u0633\\u0647\\u0644\",\"\\u0633\\u064a\\u0621\",\"\\u0633\\u064a\\u0626\",\"\\u0633\\u064a\\u0626\\u0629\",\"\\u0633\\u064a\\u0626\\u0647\",\"\\u0634\\u0631\\u0643\\u0629\",\"\\u0634\\u0631\\u0643\\u0647\",\"\\u0634\\u0643\\u0631\\u0627\",\"\\u0634\\u064a\",\"\\u0637\\u0644\\u0628\",\"\\u0637\\u0644\\u0628\\u0627\\u062a\",\"\\u0637\\u0644\\u0628\\u062a\",\"\\u0639\",\"\\u0639\\u0627\\u064a\\u0632\",\"\\u0639\\u062f\\u0645\",\"\\u0639\\u0631\\u0648\\u0636\",\"\\u0639\\u0634\\u0627\\u0646\",\"\\u0639\\u0644\\u0649\",\"\\u0639\\u0644\\u064a\",\"\\u0639\\u0644\\u064a\\u0643\\u0645\",\"\\u0639\\u0644\\u064a\\u0647\",\"\\u0639\\u0645\\u0644\\u0627\\u0621\",\"\\u0639\\u0646\",\"\\u0639\\u0646\\u062f\",\"\\u0639\\u0646\\u062f\\u064a\",\"\\u063a\\u064a\\u0631\",\"\\u0641\",\"\\u0641\\u0627\\u0634\\u0644\",\"\\u0641\\u0642\\u0637\",\"\\u0641\\u0649\",\"\\u0641\\u064a\",\"\\u0641\\u064a\\u0647\",\"\\u0641\\u064a\\u0647\\u0627\",\"\\u0642\\u0628\\u0644\",\"\\u0643\\u0627\\u0646\",\"\\u0643\\u062a\\u064a\\u0631\",\"\\u0643\\u062b\\u064a\\u0631\",\"\\u0643\\u0644\",\"\\u0643\\u0646\\u062a\",\"\\u0643\\u0648\\u062f\",\"\\u0643\\u0648\\u064a\\u0633\",\"\\u0643\\u064a\\u0641\",\"\\u0644\\u0627\",\"\\u0644\\u0627\\u0632\\u0645\",\"\\u0644\\u0643\\u0645\",\"\\u0644\\u0643\\u0646\",\"\\u0644\\u0644\\u0627\\u0633\\u0641\",\"\\u0644\\u0645\",\"\\u0644\\u0645\\u0627\",\"\\u0644\\u0648\",\"\\u0644\\u064a\",\"\\u0644\\u064a\\u0634\",\"\\u0644\\u064a\\u0647\",\"\\u0645\\u0627\",\"\\u0645\\u0627\\u0641\\u064a\",\"\\u0645\\u062b\\u0644\",\"\\u0645\\u0631\\u0629\",\"\\u0645\\u0631\\u0647\",\"\\u0645\\u0634\",\"\\u0645\\u0634\\u0643\\u0644\\u0629\",\"\\u0645\\u0634\\u0643\\u0644\\u0647\",\"\\u0645\\u0635\\u0631\",\"\\u0645\\u0637\\u0627\\u0639\\u0645\",\"\\u0645\\u0637\\u0639\\u0645\",\"\\u0645\\u0639\",\"\\u0645\\u0641\\u064a\\u0634\",\"\\u0645\\u0643\\u0627\\u0646\",\"\\u0645\\u0645\\u062a\\u0627\\u0632\",\"\\u0645\\u0645\\u062a\\u0627\\u0632\\u0629\",\"\\u0645\\u0645\\u062a\\u0627\\u0632\\u0647\",\"\\u0645\\u0645\\u0643\\u0646\",\"\\u0645\\u0646\",\"\\u0645\\u0646\\u0647\",\"\\u0645\\u0648\",\"\\u0645\\u0648\\u0642\\u0639\",\"\\u0646\\u062c\\u0645\\u0647\",\"\\u0646\\u062c\\u0648\\u0645\",\"\\u0646\\u0641\\u0633\",\"\\u0647\\u0630\\u0627\",\"\\u0647\\u0644\",\"\\u0647\\u0648\",\"\\u0648\",\"\\u0648\\u0627\\u062d\\u062f\",\"\\u0648\\u0627\\u0644\\u0644\\u0647\",\"\\u0648\\u0627\\u0646\\u0627\",\"\\u0648\\u0633\\u0647\\u0644\",\"\\u0648\\u0634\\u0643\\u0631\\u0627\",\"\\u0648\\u0642\\u062a\",\"\\u0648\\u0643\\u0644\",\"\\u0648\\u0644\\u0627\",\"\\u0648\\u0644\\u0643\\u0646\",\"\\u0648\\u0645\\u0627\",\"\\u0648\\u0645\\u0634\",\"\\u064a\\u0627\",\"\\u064a\\u0627\\u0631\\u064a\\u062a\",\"\\u064a\\u062a\\u0645\",\"\\u064a\\u0639\\u0646\\u064a\",\"\\u064a\\u0641\\u062a\\u062d\",\"\\u064a\\u0642\\u0648\\u0644\",\"\\u064a\\u0643\\u0648\\u0646\",\"\\u064a\\u0648\\u062c\\u062f\",\"\\u064a\\u0648\\u0635\\u0644\",\"\\u064a\\u0648\\u0645\"],\"labels\":[\".\",\"..\",\"...\",\"\\u060c\",\"\\u0623\\u0641\\u0636\\u0644\",\"\\u0623\\u0643\\u062b\\u0631\",\"\\u0623\\u0646\",\"\\u0623\\u0648\",\"\\u0625\\u0644\\u0649\",\"\\u0627\\u062a\\u0645\\u0646\\u0649\",\"\\u0627\\u062d\\u0633\\u0646\",\"\\u0627\\u0630\\u0627\",\"\\u0627\\u0631\\u062c\\u0648\",\"\\u0627\\u0633\\u0648\\u0621\",\"\\u0627\\u0637\\u0644\\u0628\",\"\\u0627\\u0641\\u0636\\u0644\",\"\\u0627\\u0643\\u062a\\u0631\",\"\\u0627\\u0643\\u062b\\u0631\",\"\\u0627\\u0644\\u0627\",\"\\u0627\\u0644\\u0627\\u0643\\u0644\",\"\\u0627\\u0644\\u0627\\u0648\\u0631\\u062f\\u0631\",\"\\u0627\\u0644\\u0628\\u0631\\u0646\\u0627\\u0645\\u062c\",\"\\u0627\\u0644\\u062a\\u062d\\u062f\\u064a\\u062b\",\"\\u0627\\u0644\\u062a\\u0637\\u0628\\u064a\\u0642\",\"\\u0627\\u0644\\u062a\\u0639\\u0627\\u0645\\u0644\",\"\\u0627\\u0644\\u062a\\u0648\\u0635\\u064a\\u0644\",\"\\u0627\\u0644\\u062e\\u062f\\u0645\\u0629\",\"\\u0627\\u0644\\u0631\\u062f\",\"\\u0627\\u0644\\u0637\\u0639\\u0627\\u0645\",\"\\u0627\\u0644\\u0637\\u0644\\u0628\",\"\\u0627\\u0644\\u0637\\u0644\\u0628\\u0627\\u062a\",\"\\u0627\\u0644\\u0639\\u0645\\u0644\\u0627\\u0621\",\"\\u0627\\u0644\\u0644\\u0647\",\"\\u0627\\u0644\\u0644\\u064a\",\"\\u0627\\u0644\\u0645\\u0628\\u0644\\u063a\",\"\\u0627\\u0644\\u0645\\u0634\\u0643\\u0644\\u0629\",\"\\u0627\\u0644\\u0645\\u0634\\u0643\\u0644\\u0647\",\"\\u0627\\u0644\\u0645\\u0637\\u0627\\u0639\\u0645\",\"\\u0627\\u0644\\u0645\\u0637\\u0639\\u0645\",\"\\u0627\\u0644\\u0645\\u0648\\u0642\\u0639\",\"\\u0627\\u0644\\u0646\\u0627\\u0633\",\"\\u0627\\u0644\\u0648\\u0642\\u062a\",\"\\u0627\\u0644\\u0649\",\"\\u0627\\u0644\\u064a\",\"\\u0627\\u0646\",\"\\u0627\\u0646\\u0627\",\"\\u0627\\u0646\\u0635\\u062d\",\"\\u0627\\u0646\\u0635\\u062d\\u0643\\u0645\",\"\\u0627\\u0646\\u0647\",\"\\u0627\\u0646\\u064a\",\"\\u0627\\u0648\",\"\\u0627\\u0648\\u0644\",\"\\u0627\\u064a\",\"\\u0627\\u064a\\u0647\",\"\\u0628\",\"\\u0628\\u0627\\u0631\\u062f\",\"\\u0628\\u062f\\u0648\\u0646\",\"\\u0628\\u0631\\u0646\\u0627\\u0645\\u062c\",\"\\u0628\\u0633\",\"\\u0628\\u0635\\u0631\\u0627\\u062d\\u0647\",\"\\u0628\\u0639\\u062f\",\"\\u0628\\u0639\\u0636\",\"\\u0628\\u0647\",\"\\u062a\\u062c\\u0631\\u0628\\u0629\",\"\\u062a\\u062c\\u0631\\u0628\\u0647\",\"\\u062a\\u062d\\u062f\\u064a\\u062b\",\"\\u062a\\u0637\\u0628\\u064a\\u0642\",\"\\u062a\\u0645\",\"\\u062a\\u0648\\u0635\\u064a\\u0644\",\"\\u062c\\u062f\\u0622\",\"\\u062c\\u062f\\u0627\",\"\\u062c\\u062f\\u0627\\u064b\",\"\\u062c\\u0645\\u064a\\u0639\",\"\\u062c\\u0645\\u064a\\u0644\",\"\\u062c\\u064a\\u062f\",\"\\u062d\\u0627\\u062c\\u0647\",\"\\u062d\\u062a\\u0649\",\"\\u062d\\u062f\",\"\\u062d\\u0644\",\"\\u062d\\u0644\\u0648\",\"\\u062e\\u062f\\u0645\\u0629\",\"\\u062e\\u062f\\u0645\\u0647\",\"\\u062e\\u0631\\u0627\",\"\\u062e\\u0635\\u0645\",\"\\u062f\\u0647\",\"\\u0631\\u0627\\u0626\\u0639\",\"\\u0631\\u0642\\u0645\",\"\\u0631\\u0648\\u0639\\u0647\",\"\\u0632\\u0628\\u0627\\u0644\\u0647\",\"\\u0632\\u0641\\u062a\",\"\\u0632\\u064a\",\"\\u0633\\u0626\",\"\\u0633\\u0627\\u0639\\u0629\",\"\\u0633\\u0627\\u0639\\u062a\\u064a\\u0646\",\"\\u0633\\u0627\\u0639\\u0647\",\"\\u0633\\u0631\\u064a\\u0639\",\"\\u0633\\u0639\\u0631\",\"\\u0633\\u0647\\u0644\",\"\\u0633\\u064a\\u0621\",\"\\u0633\\u064a\\u0626\",\"\\u0633\\u064a\\u0626\\u0629\",\"\\u0633\\u064a\\u0626\\u0647\",\"\\u0634\\u0631\\u0643\\u0629\",\"\\u0634\\u0631\\u0643\\u0647\",\"\\u0634\\u0643\\u0631\\u0627\",\"\\u0634\\u064a\",\"\\u0637\\u0644\\u0628\",\"\\u0637\\u0644\\u0628\\u0627\\u062a\",\"\\u0637\\u0644\\u0628\\u062a\",\"\\u0639\",\"\\u0639\\u0627\\u064a\\u0632\",\"\\u0639\\u062f\\u0645\",\"\\u0639\\u0631\\u0648\\u0636\",\"\\u0639\\u0634\\u0627\\u0646\",\"\\u0639\\u0644\\u0649\",\"\\u0639\\u0644\\u064a\",\"\\u0639\\u0644\\u064a\\u0643\\u0645\",\"\\u0639\\u0644\\u064a\\u0647\",\"\\u0639\\u0645\\u0644\\u0627\\u0621\",\"\\u0639\\u0646\",\"\\u0639\\u0646\\u062f\",\"\\u0639\\u0646\\u062f\\u064a\",\"\\u063a\\u064a\\u0631\",\"\\u0641\",\"\\u0641\\u0627\\u0634\\u0644\",\"\\u0641\\u0642\\u0637\",\"\\u0641\\u0649\",\"\\u0641\\u064a\",\"\\u0641\\u064a\\u0647\",\"\\u0641\\u064a\\u0647\\u0627\",\"\\u0642\\u0628\\u0644\",\"\\u0643\\u0627\\u0646\",\"\\u0643\\u062a\\u064a\\u0631\",\"\\u0643\\u062b\\u064a\\u0631\",\"\\u0643\\u0644\",\"\\u0643\\u0646\\u062a\",\"\\u0643\\u0648\\u062f\",\"\\u0643\\u0648\\u064a\\u0633\",\"\\u0643\\u064a\\u0641\",\"\\u0644\\u0627\",\"\\u0644\\u0627\\u0632\\u0645\",\"\\u0644\\u0643\\u0645\",\"\\u0644\\u0643\\u0646\",\"\\u0644\\u0644\\u0627\\u0633\\u0641\",\"\\u0644\\u0645\",\"\\u0644\\u0645\\u0627\",\"\\u0644\\u0648\",\"\\u0644\\u064a\",\"\\u0644\\u064a\\u0634\",\"\\u0644\\u064a\\u0647\",\"\\u0645\\u0627\",\"\\u0645\\u0627\\u0641\\u064a\",\"\\u0645\\u062b\\u0644\",\"\\u0645\\u0631\\u0629\",\"\\u0645\\u0631\\u0647\",\"\\u0645\\u0634\",\"\\u0645\\u0634\\u0643\\u0644\\u0629\",\"\\u0645\\u0634\\u0643\\u0644\\u0647\",\"\\u0645\\u0635\\u0631\",\"\\u0645\\u0637\\u0627\\u0639\\u0645\",\"\\u0645\\u0637\\u0639\\u0645\",\"\\u0645\\u0639\",\"\\u0645\\u0641\\u064a\\u0634\",\"\\u0645\\u0643\\u0627\\u0646\",\"\\u0645\\u0645\\u062a\\u0627\\u0632\",\"\\u0645\\u0645\\u062a\\u0627\\u0632\\u0629\",\"\\u0645\\u0645\\u062a\\u0627\\u0632\\u0647\",\"\\u0645\\u0645\\u0643\\u0646\",\"\\u0645\\u0646\",\"\\u0645\\u0646\\u0647\",\"\\u0645\\u0648\",\"\\u0645\\u0648\\u0642\\u0639\",\"\\u0646\\u062c\\u0645\\u0647\",\"\\u0646\\u062c\\u0648\\u0645\",\"\\u0646\\u0641\\u0633\",\"\\u0647\\u0630\\u0627\",\"\\u0647\\u0644\",\"\\u0647\\u0648\",\"\\u0648\",\"\\u0648\\u0627\\u062d\\u062f\",\"\\u0648\\u0627\\u0644\\u0644\\u0647\",\"\\u0648\\u0627\\u0646\\u0627\",\"\\u0648\\u0633\\u0647\\u0644\",\"\\u0648\\u0634\\u0643\\u0631\\u0627\",\"\\u0648\\u0642\\u062a\",\"\\u0648\\u0643\\u0644\",\"\\u0648\\u0644\\u0627\",\"\\u0648\\u0644\\u0643\\u0646\",\"\\u0648\\u0645\\u0627\",\"\\u0648\\u0645\\u0634\",\"\\u064a\\u0627\",\"\\u064a\\u0627\\u0631\\u064a\\u062a\",\"\\u064a\\u062a\\u0645\",\"\\u064a\\u0639\\u0646\\u064a\",\"\\u064a\\u0641\\u062a\\u062d\",\"\\u064a\\u0642\\u0648\\u0644\",\"\\u064a\\u0643\\u0648\\u0646\",\"\\u064a\\u0648\\u062c\\u062f\",\"\\u064a\\u0648\\u0635\\u0644\",\"\\u064a\\u0648\\u0645\"],\"name\":\"\",\"parents\":[\"\",\"\",\"\",\"\",\"\",\"\",\"\",\"\",\"\",\"\",\"\",\"\",\"\",\"\",\"\",\"\",\"\",\"\",\"\",\"\",\"\",\"\",\"\",\"\",\"\",\"\",\"\",\"\",\"\",\"\",\"\",\"\",\"\",\"\",\"\",\"\",\"\",\"\",\"\",\"\",\"\",\"\",\"\",\"\",\"\",\"\",\"\",\"\",\"\",\"\",\"\",\"\",\"\",\"\",\"\",\"\",\"\",\"\",\"\",\"\",\"\",\"\",\"\",\"\",\"\",\"\",\"\",\"\",\"\",\"\",\"\",\"\",\"\",\"\",\"\",\"\",\"\",\"\",\"\",\"\",\"\",\"\",\"\",\"\",\"\",\"\",\"\",\"\",\"\",\"\",\"\",\"\",\"\",\"\",\"\",\"\",\"\",\"\",\"\",\"\",\"\",\"\",\"\",\"\",\"\",\"\",\"\",\"\",\"\",\"\",\"\",\"\",\"\",\"\",\"\",\"\",\"\",\"\",\"\",\"\",\"\",\"\",\"\",\"\",\"\",\"\",\"\",\"\",\"\",\"\",\"\",\"\",\"\",\"\",\"\",\"\",\"\",\"\",\"\",\"\",\"\",\"\",\"\",\"\",\"\",\"\",\"\",\"\",\"\",\"\",\"\",\"\",\"\",\"\",\"\",\"\",\"\",\"\",\"\",\"\",\"\",\"\",\"\",\"\",\"\",\"\",\"\",\"\",\"\",\"\",\"\",\"\",\"\",\"\",\"\",\"\",\"\",\"\",\"\",\"\",\"\",\"\",\"\",\"\",\"\",\"\",\"\",\"\",\"\",\"\",\"\",\"\",\"\",\"\",\"\",\"\",\"\",\"\",\"\",\"\"],\"values\":[633,742,244,480,234,313,341,250,263,372,570,360,416,275,830,855,256,744,264,478,235,1996,239,3127,276,1562,235,250,233,2309,450,638,1117,611,254,240,304,1598,896,424,295,453,375,754,957,1957,700,232,614,271,816,445,728,302,298,293,287,2288,2419,247,1034,551,259,316,300,349,3768,524,975,267,5892,581,260,1629,776,338,381,360,359,1387,1054,661,282,450,371,1507,334,430,413,341,419,462,308,261,396,490,259,410,681,533,399,294,436,349,718,751,596,1443,822,353,231,248,270,550,2166,780,261,402,265,876,371,414,1252,375,800,298,659,5579,969,317,425,710,387,391,1873,270,299,249,271,2625,316,449,656,301,483,450,892,630,504,470,2881,322,293,489,908,1973,263,319,295,633,629,1448,387,283,2499,471,427,401,6891,364,504,453,375,260,289,845,251,558,4181,252,842,401,293,263,436,269,1730,445,289,301,460,350,436,560,244,348,619,619,660,261],\"type\":\"treemap\",\"textinfo\":\"label+value\"}],                        {\"template\":{\"data\":{\"histogram2dcontour\":[{\"type\":\"histogram2dcontour\",\"colorbar\":{\"outlinewidth\":0,\"ticks\":\"\"},\"colorscale\":[[0.0,\"#0d0887\"],[0.1111111111111111,\"#46039f\"],[0.2222222222222222,\"#7201a8\"],[0.3333333333333333,\"#9c179e\"],[0.4444444444444444,\"#bd3786\"],[0.5555555555555556,\"#d8576b\"],[0.6666666666666666,\"#ed7953\"],[0.7777777777777778,\"#fb9f3a\"],[0.8888888888888888,\"#fdca26\"],[1.0,\"#f0f921\"]]}],\"choropleth\":[{\"type\":\"choropleth\",\"colorbar\":{\"outlinewidth\":0,\"ticks\":\"\"}}],\"histogram2d\":[{\"type\":\"histogram2d\",\"colorbar\":{\"outlinewidth\":0,\"ticks\":\"\"},\"colorscale\":[[0.0,\"#0d0887\"],[0.1111111111111111,\"#46039f\"],[0.2222222222222222,\"#7201a8\"],[0.3333333333333333,\"#9c179e\"],[0.4444444444444444,\"#bd3786\"],[0.5555555555555556,\"#d8576b\"],[0.6666666666666666,\"#ed7953\"],[0.7777777777777778,\"#fb9f3a\"],[0.8888888888888888,\"#fdca26\"],[1.0,\"#f0f921\"]]}],\"heatmap\":[{\"type\":\"heatmap\",\"colorbar\":{\"outlinewidth\":0,\"ticks\":\"\"},\"colorscale\":[[0.0,\"#0d0887\"],[0.1111111111111111,\"#46039f\"],[0.2222222222222222,\"#7201a8\"],[0.3333333333333333,\"#9c179e\"],[0.4444444444444444,\"#bd3786\"],[0.5555555555555556,\"#d8576b\"],[0.6666666666666666,\"#ed7953\"],[0.7777777777777778,\"#fb9f3a\"],[0.8888888888888888,\"#fdca26\"],[1.0,\"#f0f921\"]]}],\"heatmapgl\":[{\"type\":\"heatmapgl\",\"colorbar\":{\"outlinewidth\":0,\"ticks\":\"\"},\"colorscale\":[[0.0,\"#0d0887\"],[0.1111111111111111,\"#46039f\"],[0.2222222222222222,\"#7201a8\"],[0.3333333333333333,\"#9c179e\"],[0.4444444444444444,\"#bd3786\"],[0.5555555555555556,\"#d8576b\"],[0.6666666666666666,\"#ed7953\"],[0.7777777777777778,\"#fb9f3a\"],[0.8888888888888888,\"#fdca26\"],[1.0,\"#f0f921\"]]}],\"contourcarpet\":[{\"type\":\"contourcarpet\",\"colorbar\":{\"outlinewidth\":0,\"ticks\":\"\"}}],\"contour\":[{\"type\":\"contour\",\"colorbar\":{\"outlinewidth\":0,\"ticks\":\"\"},\"colorscale\":[[0.0,\"#0d0887\"],[0.1111111111111111,\"#46039f\"],[0.2222222222222222,\"#7201a8\"],[0.3333333333333333,\"#9c179e\"],[0.4444444444444444,\"#bd3786\"],[0.5555555555555556,\"#d8576b\"],[0.6666666666666666,\"#ed7953\"],[0.7777777777777778,\"#fb9f3a\"],[0.8888888888888888,\"#fdca26\"],[1.0,\"#f0f921\"]]}],\"surface\":[{\"type\":\"surface\",\"colorbar\":{\"outlinewidth\":0,\"ticks\":\"\"},\"colorscale\":[[0.0,\"#0d0887\"],[0.1111111111111111,\"#46039f\"],[0.2222222222222222,\"#7201a8\"],[0.3333333333333333,\"#9c179e\"],[0.4444444444444444,\"#bd3786\"],[0.5555555555555556,\"#d8576b\"],[0.6666666666666666,\"#ed7953\"],[0.7777777777777778,\"#fb9f3a\"],[0.8888888888888888,\"#fdca26\"],[1.0,\"#f0f921\"]]}],\"mesh3d\":[{\"type\":\"mesh3d\",\"colorbar\":{\"outlinewidth\":0,\"ticks\":\"\"}}],\"scatter\":[{\"fillpattern\":{\"fillmode\":\"overlay\",\"size\":10,\"solidity\":0.2},\"type\":\"scatter\"}],\"parcoords\":[{\"type\":\"parcoords\",\"line\":{\"colorbar\":{\"outlinewidth\":0,\"ticks\":\"\"}}}],\"scatterpolargl\":[{\"type\":\"scatterpolargl\",\"marker\":{\"colorbar\":{\"outlinewidth\":0,\"ticks\":\"\"}}}],\"bar\":[{\"error_x\":{\"color\":\"#2a3f5f\"},\"error_y\":{\"color\":\"#2a3f5f\"},\"marker\":{\"line\":{\"color\":\"#E5ECF6\",\"width\":0.5},\"pattern\":{\"fillmode\":\"overlay\",\"size\":10,\"solidity\":0.2}},\"type\":\"bar\"}],\"scattergeo\":[{\"type\":\"scattergeo\",\"marker\":{\"colorbar\":{\"outlinewidth\":0,\"ticks\":\"\"}}}],\"scatterpolar\":[{\"type\":\"scatterpolar\",\"marker\":{\"colorbar\":{\"outlinewidth\":0,\"ticks\":\"\"}}}],\"histogram\":[{\"marker\":{\"pattern\":{\"fillmode\":\"overlay\",\"size\":10,\"solidity\":0.2}},\"type\":\"histogram\"}],\"scattergl\":[{\"type\":\"scattergl\",\"marker\":{\"colorbar\":{\"outlinewidth\":0,\"ticks\":\"\"}}}],\"scatter3d\":[{\"type\":\"scatter3d\",\"line\":{\"colorbar\":{\"outlinewidth\":0,\"ticks\":\"\"}},\"marker\":{\"colorbar\":{\"outlinewidth\":0,\"ticks\":\"\"}}}],\"scattermapbox\":[{\"type\":\"scattermapbox\",\"marker\":{\"colorbar\":{\"outlinewidth\":0,\"ticks\":\"\"}}}],\"scatterternary\":[{\"type\":\"scatterternary\",\"marker\":{\"colorbar\":{\"outlinewidth\":0,\"ticks\":\"\"}}}],\"scattercarpet\":[{\"type\":\"scattercarpet\",\"marker\":{\"colorbar\":{\"outlinewidth\":0,\"ticks\":\"\"}}}],\"carpet\":[{\"aaxis\":{\"endlinecolor\":\"#2a3f5f\",\"gridcolor\":\"white\",\"linecolor\":\"white\",\"minorgridcolor\":\"white\",\"startlinecolor\":\"#2a3f5f\"},\"baxis\":{\"endlinecolor\":\"#2a3f5f\",\"gridcolor\":\"white\",\"linecolor\":\"white\",\"minorgridcolor\":\"white\",\"startlinecolor\":\"#2a3f5f\"},\"type\":\"carpet\"}],\"table\":[{\"cells\":{\"fill\":{\"color\":\"#EBF0F8\"},\"line\":{\"color\":\"white\"}},\"header\":{\"fill\":{\"color\":\"#C8D4E3\"},\"line\":{\"color\":\"white\"}},\"type\":\"table\"}],\"barpolar\":[{\"marker\":{\"line\":{\"color\":\"#E5ECF6\",\"width\":0.5},\"pattern\":{\"fillmode\":\"overlay\",\"size\":10,\"solidity\":0.2}},\"type\":\"barpolar\"}],\"pie\":[{\"automargin\":true,\"type\":\"pie\"}]},\"layout\":{\"autotypenumbers\":\"strict\",\"colorway\":[\"#636efa\",\"#EF553B\",\"#00cc96\",\"#ab63fa\",\"#FFA15A\",\"#19d3f3\",\"#FF6692\",\"#B6E880\",\"#FF97FF\",\"#FECB52\"],\"font\":{\"color\":\"#2a3f5f\"},\"hovermode\":\"closest\",\"hoverlabel\":{\"align\":\"left\"},\"paper_bgcolor\":\"white\",\"plot_bgcolor\":\"#E5ECF6\",\"polar\":{\"bgcolor\":\"#E5ECF6\",\"angularaxis\":{\"gridcolor\":\"white\",\"linecolor\":\"white\",\"ticks\":\"\"},\"radialaxis\":{\"gridcolor\":\"white\",\"linecolor\":\"white\",\"ticks\":\"\"}},\"ternary\":{\"bgcolor\":\"#E5ECF6\",\"aaxis\":{\"gridcolor\":\"white\",\"linecolor\":\"white\",\"ticks\":\"\"},\"baxis\":{\"gridcolor\":\"white\",\"linecolor\":\"white\",\"ticks\":\"\"},\"caxis\":{\"gridcolor\":\"white\",\"linecolor\":\"white\",\"ticks\":\"\"}},\"coloraxis\":{\"colorbar\":{\"outlinewidth\":0,\"ticks\":\"\"}},\"colorscale\":{\"sequential\":[[0.0,\"#0d0887\"],[0.1111111111111111,\"#46039f\"],[0.2222222222222222,\"#7201a8\"],[0.3333333333333333,\"#9c179e\"],[0.4444444444444444,\"#bd3786\"],[0.5555555555555556,\"#d8576b\"],[0.6666666666666666,\"#ed7953\"],[0.7777777777777778,\"#fb9f3a\"],[0.8888888888888888,\"#fdca26\"],[1.0,\"#f0f921\"]],\"sequentialminus\":[[0.0,\"#0d0887\"],[0.1111111111111111,\"#46039f\"],[0.2222222222222222,\"#7201a8\"],[0.3333333333333333,\"#9c179e\"],[0.4444444444444444,\"#bd3786\"],[0.5555555555555556,\"#d8576b\"],[0.6666666666666666,\"#ed7953\"],[0.7777777777777778,\"#fb9f3a\"],[0.8888888888888888,\"#fdca26\"],[1.0,\"#f0f921\"]],\"diverging\":[[0,\"#8e0152\"],[0.1,\"#c51b7d\"],[0.2,\"#de77ae\"],[0.3,\"#f1b6da\"],[0.4,\"#fde0ef\"],[0.5,\"#f7f7f7\"],[0.6,\"#e6f5d0\"],[0.7,\"#b8e186\"],[0.8,\"#7fbc41\"],[0.9,\"#4d9221\"],[1,\"#276419\"]]},\"xaxis\":{\"gridcolor\":\"white\",\"linecolor\":\"white\",\"ticks\":\"\",\"title\":{\"standoff\":15},\"zerolinecolor\":\"white\",\"automargin\":true,\"zerolinewidth\":2},\"yaxis\":{\"gridcolor\":\"white\",\"linecolor\":\"white\",\"ticks\":\"\",\"title\":{\"standoff\":15},\"zerolinecolor\":\"white\",\"automargin\":true,\"zerolinewidth\":2},\"scene\":{\"xaxis\":{\"backgroundcolor\":\"#E5ECF6\",\"gridcolor\":\"white\",\"linecolor\":\"white\",\"showbackground\":true,\"ticks\":\"\",\"zerolinecolor\":\"white\",\"gridwidth\":2},\"yaxis\":{\"backgroundcolor\":\"#E5ECF6\",\"gridcolor\":\"white\",\"linecolor\":\"white\",\"showbackground\":true,\"ticks\":\"\",\"zerolinecolor\":\"white\",\"gridwidth\":2},\"zaxis\":{\"backgroundcolor\":\"#E5ECF6\",\"gridcolor\":\"white\",\"linecolor\":\"white\",\"showbackground\":true,\"ticks\":\"\",\"zerolinecolor\":\"white\",\"gridwidth\":2}},\"shapedefaults\":{\"line\":{\"color\":\"#2a3f5f\"}},\"annotationdefaults\":{\"arrowcolor\":\"#2a3f5f\",\"arrowhead\":0,\"arrowwidth\":1},\"geo\":{\"bgcolor\":\"white\",\"landcolor\":\"#E5ECF6\",\"subunitcolor\":\"white\",\"showland\":true,\"showlakes\":true,\"lakecolor\":\"white\"},\"title\":{\"x\":0.05},\"mapbox\":{\"style\":\"light\"}}},\"legend\":{\"tracegroupgap\":0},\"margin\":{\"t\":60},\"height\":600,\"width\":1000,\"title\":{\"font\":{\"size\":30},\"text\":\"Top Frequent 200 Words in the Dataset (After Cleaning)\",\"x\":0.5}},                        {\"responsive\": true}                    ).then(function(){\n",
              "                            \n",
              "var gd = document.getElementById('3668cfdd-0110-4f0d-a3c8-ac97f99bb7aa');\n",
              "var x = new MutationObserver(function (mutations, observer) {{\n",
              "        var display = window.getComputedStyle(gd).display;\n",
              "        if (!display || display === 'none') {{\n",
              "            console.log([gd, 'removed!']);\n",
              "            Plotly.purge(gd);\n",
              "            observer.disconnect();\n",
              "        }}\n",
              "}});\n",
              "\n",
              "// Listen for the removal of the full notebook cells\n",
              "var notebookContainer = gd.closest('#notebook-container');\n",
              "if (notebookContainer) {{\n",
              "    x.observe(notebookContainer, {childList: true});\n",
              "}}\n",
              "\n",
              "// Listen for the clearing of the current output cell\n",
              "var outputEl = gd.closest('.output');\n",
              "if (outputEl) {{\n",
              "    x.observe(outputEl, {childList: true});\n",
              "}}\n",
              "\n",
              "                        })                };                            </script>        </div>\n",
              "</body>\n",
              "</html>"
            ]
          },
          "metadata": {}
        }
      ]
    },
    {
      "cell_type": "code",
      "source": [
        "plt.figure(figsize = (15, 6))\n",
        "plt.subplot(1, 2, 1)\n",
        "sns.countplot(x=text_df['rating'])\n",
        "plt.subplot(1, 2, 2)\n",
        "text_df['rating'].value_counts().plot.pie(autopct='%1.0f%%')"
      ],
      "metadata": {
        "colab": {
          "base_uri": "https://localhost:8080/",
          "height": 533
        },
        "id": "vVeeIZEv9D8F",
        "outputId": "95f3a188-e323-4539-df96-23cb71ff4f6f"
      },
      "execution_count": 11,
      "outputs": [
        {
          "output_type": "execute_result",
          "data": {
            "text/plain": [
              "<Axes: ylabel='rating'>"
            ]
          },
          "metadata": {},
          "execution_count": 11
        },
        {
          "output_type": "display_data",
          "data": {
            "text/plain": [
              "<Figure size 1500x600 with 2 Axes>"
            ],
            "image/png": "[encoded data removed]"
          },
          "metadata": {}
        }
      ]
    },
    {
      "cell_type": "code",
      "source": [
        "df.groupby('company').size()"
      ],
      "metadata": {
        "colab": {
          "base_uri": "https://localhost:8080/"
        },
        "id": "58v47EZj9HYP",
        "outputId": "1d76e49d-e7cf-4841-cad5-07e0f87be344"
      },
      "execution_count": 12,
      "outputs": [
        {
          "output_type": "execute_result",
          "data": {
            "text/plain": [
              "company\n",
              "Ezz Steel           49\n",
              "Raya               268\n",
              "TMG                250\n",
              "capiter             73\n",
              "domty                4\n",
              "elsewedy           147\n",
              "hilton             100\n",
              "nestle              18\n",
              "swvl              4693\n",
              "talbat           32073\n",
              "telecom_egypt     2090\n",
              "venus              281\n",
              "dtype: int64"
            ]
          },
          "metadata": {},
          "execution_count": 12
        }
      ]
    },
    {
      "cell_type": "code",
      "source": [
        "plt.figure(figsize = (30,10))\n",
        "plt.subplot(1, 2, 1)\n",
        "sns.countplot(x = df['company'], data = df)\n",
        "\n",
        "plt.show()"
      ],
      "metadata": {
        "colab": {
          "base_uri": "https://localhost:8080/",
          "height": 850
        },
        "id": "MhdjQ46q9JLX",
        "outputId": "446c6be8-eb19-4b8b-8f79-fbea32202aa8"
      },
      "execution_count": 13,
      "outputs": [
        {
          "output_type": "display_data",
          "data": {
            "text/plain": [
              "<Figure size 3000x1000 with 1 Axes>"
            ],
            "image/png": "[encoded data removed]"
          },
          "metadata": {}
        }
      ]
    },
    {
      "cell_type": "code",
      "source": [
        "text_df.groupby(['rating']).count()"
      ],
      "metadata": {
        "colab": {
          "base_uri": "https://localhost:8080/",
          "height": 143
        },
        "id": "Yydkxp1c9WUR",
        "outputId": "fdf7264a-2c15-4ee8-d926-b047739e664f"
      },
      "execution_count": 14,
      "outputs": [
        {
          "output_type": "execute_result",
          "data": {
            "text/plain": [
              "        review_description\n",
              "rating                    \n",
              "0                    15884\n",
              "1                    23211"
            ],
            "text/html": [
              "\n",
              "  <div id=\"df-510b0516-a8d4-4d04-83b5-3d8c9037e161\" class=\"colab-df-container\">\n",
              "    <div>\n",
              "<style scoped>\n",
              "    .dataframe tbody tr th:only-of-type {\n",
              "        vertical-align: middle;\n",
              "    }\n",
              "\n",
              "    .dataframe tbody tr th {\n",
              "        vertical-align: top;\n",
              "    }\n",
              "\n",
              "    .dataframe thead th {\n",
              "        text-align: right;\n",
              "    }\n",
              "</style>\n",
              "<table border=\"1\" class=\"dataframe\">\n",
              "  <thead>\n",
              "    <tr style=\"text-align: right;\">\n",
              "      <th></th>\n",
              "      <th>review_description</th>\n",
              "    </tr>\n",
              "    <tr>\n",
              "      <th>rating</th>\n",
              "      <th></th>\n",
              "    </tr>\n",
              "  </thead>\n",
              "  <tbody>\n",
              "    <tr>\n",
              "      <th>0</th>\n",
              "      <td>15884</td>\n",
              "    </tr>\n",
              "    <tr>\n",
              "      <th>1</th>\n",
              "      <td>23211</td>\n",
              "    </tr>\n",
              "  </tbody>\n",
              "</table>\n",
              "</div>\n",
              "    <div class=\"colab-df-buttons\">\n",
              "\n",
              "  <div class=\"colab-df-container\">\n",
              "    <button class=\"colab-df-convert\" onclick=\"convertToInteractive('df-510b0516-a8d4-4d04-83b5-3d8c9037e161')\"\n",
              "            title=\"Convert this dataframe to an interactive table.\"\n",
              "            style=\"display:none;\">\n",
              "\n",
              "  <svg xmlns=\"http://www.w3.org/2000/svg\" height=\"24px\" viewBox=\"0 -960 960 960\">\n",
              "    <path d=\"M120-120v-720h720v720H120Zm60-500h600v-160H180v160Zm220 220h160v-160H400v160Zm0 220h160v-160H400v160ZM180-400h160v-160H180v160Zm440 0h160v-160H620v160ZM180-180h160v-160H180v160Zm440 0h160v-160H620v160Z\"/>\n",
              "  </svg>\n",
              "    </button>\n",
              "\n",
              "  <style>\n",
              "    .colab-df-container {\n",
              "      display:flex;\n",
              "      gap: 12px;\n",
              "    }\n",
              "\n",
              "    .colab-df-convert {\n",
              "      background-color: #E8F0FE;\n",
              "      border: none;\n",
              "      border-radius: 50%;\n",
              "      cursor: pointer;\n",
              "      display: none;\n",
              "      fill: #1967D2;\n",
              "      height: 32px;\n",
              "      padding: 0 0 0 0;\n",
              "      width: 32px;\n",
              "    }\n",
              "\n",
              "    .colab-df-convert:hover {\n",
              "      background-color: #E2EBFA;\n",
              "      box-shadow: 0px 1px 2px rgba(60, 64, 67, 0.3), 0px 1px 3px 1px rgba(60, 64, 67, 0.15);\n",
              "      fill: #174EA6;\n",
              "    }\n",
              "\n",
              "    .colab-df-buttons div {\n",
              "      margin-bottom: 4px;\n",
              "    }\n",
              "\n",
              "    [theme=dark] .colab-df-convert {\n",
              "      background-color: #3B4455;\n",
              "      fill: #D2E3FC;\n",
              "    }\n",
              "\n",
              "    [theme=dark] .colab-df-convert:hover {\n",
              "      background-color: #434B5C;\n",
              "      box-shadow: 0px 1px 3px 1px rgba(0, 0, 0, 0.15);\n",
              "      filter: drop-shadow(0px 1px 2px rgba(0, 0, 0, 0.3));\n",
              "      fill: #FFFFFF;\n",
              "    }\n",
              "  </style>\n",
              "\n",
              "    <script>\n",
              "      const buttonEl =\n",
              "        document.querySelector('#df-510b0516-a8d4-4d04-83b5-3d8c9037e161 button.colab-df-convert');\n",
              "      buttonEl.style.display =\n",
              "        google.colab.kernel.accessAllowed ? 'block' : 'none';\n",
              "\n",
              "      async function convertToInteractive(key) {\n",
              "        const element = document.querySelector('#df-510b0516-a8d4-4d04-83b5-3d8c9037e161');\n",
              "        const dataTable =\n",
              "          await google.colab.kernel.invokeFunction('convertToInteractive',\n",
              "                                                    [key], {});\n",
              "        if (!dataTable) return;\n",
              "\n",
              "        const docLinkHtml = 'Like what you see? Visit the ' +\n",
              "          '<a target=\"_blank\" href=https://colab.research.google.com/notebooks/data_table.ipynb>data table notebook</a>'\n",
              "          + ' to learn more about interactive tables.';\n",
              "        element.innerHTML = '';\n",
              "        dataTable['output_type'] = 'display_data';\n",
              "        await google.colab.output.renderOutput(dataTable, element);\n",
              "        const docLink = document.createElement('div');\n",
              "        docLink.innerHTML = docLinkHtml;\n",
              "        element.appendChild(docLink);\n",
              "      }\n",
              "    </script>\n",
              "  </div>\n",
              "\n",
              "\n",
              "<div id=\"df-1721e4e2-7836-41ca-b483-3c457c218c7e\">\n",
              "  <button class=\"colab-df-quickchart\" onclick=\"quickchart('df-1721e4e2-7836-41ca-b483-3c457c218c7e')\"\n",
              "            title=\"Suggest charts.\"\n",
              "            style=\"display:none;\">\n",
              "\n",
              "<svg xmlns=\"http://www.w3.org/2000/svg\" height=\"24px\"viewBox=\"0 0 24 24\"\n",
              "     width=\"24px\">\n",
              "    <g>\n",
              "        <path d=\"M19 3H5c-1.1 0-2 .9-2 2v14c0 1.1.9 2 2 2h14c1.1 0 2-.9 2-2V5c0-1.1-.9-2-2-2zM9 17H7v-7h2v7zm4 0h-2V7h2v10zm4 0h-2v-4h2v4z\"/>\n",
              "    </g>\n",
              "</svg>\n",
              "  </button>\n",
              "\n",
              "<style>\n",
              "  .colab-df-quickchart {\n",
              "      --bg-color: #E8F0FE;\n",
              "      --fill-color: #1967D2;\n",
              "      --hover-bg-color: #E2EBFA;\n",
              "      --hover-fill-color: #174EA6;\n",
              "      --disabled-fill-color: #AAA;\n",
              "      --disabled-bg-color: #DDD;\n",
              "  }\n",
              "\n",
              "  [theme=dark] .colab-df-quickchart {\n",
              "      --bg-color: #3B4455;\n",
              "      --fill-color: #D2E3FC;\n",
              "      --hover-bg-color: #434B5C;\n",
              "      --hover-fill-color: #FFFFFF;\n",
              "      --disabled-bg-color: #3B4455;\n",
              "      --disabled-fill-color: #666;\n",
              "  }\n",
              "\n",
              "  .colab-df-quickchart {\n",
              "    background-color: var(--bg-color);\n",
              "    border: none;\n",
              "    border-radius: 50%;\n",
              "    cursor: pointer;\n",
              "    display: none;\n",
              "    fill: var(--fill-color);\n",
              "    height: 32px;\n",
              "    padding: 0;\n",
              "    width: 32px;\n",
              "  }\n",
              "\n",
              "  .colab-df-quickchart:hover {\n",
              "    background-color: var(--hover-bg-color);\n",
              "    box-shadow: 0 1px 2px rgba(60, 64, 67, 0.3), 0 1px 3px 1px rgba(60, 64, 67, 0.15);\n",
              "    fill: var(--button-hover-fill-color);\n",
              "  }\n",
              "\n",
              "  .colab-df-quickchart-complete:disabled,\n",
              "  .colab-df-quickchart-complete:disabled:hover {\n",
              "    background-color: var(--disabled-bg-color);\n",
              "    fill: var(--disabled-fill-color);\n",
              "    box-shadow: none;\n",
              "  }\n",
              "\n",
              "  .colab-df-spinner {\n",
              "    border: 2px solid var(--fill-color);\n",
              "    border-color: transparent;\n",
              "    border-bottom-color: var(--fill-color);\n",
              "    animation:\n",
              "      spin 1s steps(1) infinite;\n",
              "  }\n",
              "\n",
              "  @keyframes spin {\n",
              "    0% {\n",
              "      border-color: transparent;\n",
              "      border-bottom-color: var(--fill-color);\n",
              "      border-left-color: var(--fill-color);\n",
              "    }\n",
              "    20% {\n",
              "      border-color: transparent;\n",
              "      border-left-color: var(--fill-color);\n",
              "      border-top-color: var(--fill-color);\n",
              "    }\n",
              "    30% {\n",
              "      border-color: transparent;\n",
              "      border-left-color: var(--fill-color);\n",
              "      border-top-color: var(--fill-color);\n",
              "      border-right-color: var(--fill-color);\n",
              "    }\n",
              "    40% {\n",
              "      border-color: transparent;\n",
              "      border-right-color: var(--fill-color);\n",
              "      border-top-color: var(--fill-color);\n",
              "    }\n",
              "    60% {\n",
              "      border-color: transparent;\n",
              "      border-right-color: var(--fill-color);\n",
              "    }\n",
              "    80% {\n",
              "      border-color: transparent;\n",
              "      border-right-color: var(--fill-color);\n",
              "      border-bottom-color: var(--fill-color);\n",
              "    }\n",
              "    90% {\n",
              "      border-color: transparent;\n",
              "      border-bottom-color: var(--fill-color);\n",
              "    }\n",
              "  }\n",
              "</style>\n",
              "\n",
              "  <script>\n",
              "    async function quickchart(key) {\n",
              "      const quickchartButtonEl =\n",
              "        document.querySelector('#' + key + ' button');\n",
              "      quickchartButtonEl.disabled = true;  // To prevent multiple clicks.\n",
              "      quickchartButtonEl.classList.add('colab-df-spinner');\n",
              "      try {\n",
              "        const charts = await google.colab.kernel.invokeFunction(\n",
              "            'suggestCharts', [key], {});\n",
              "      } catch (error) {\n",
              "        console.error('Error during call to suggestCharts:', error);\n",
              "      }\n",
              "      quickchartButtonEl.classList.remove('colab-df-spinner');\n",
              "      quickchartButtonEl.classList.add('colab-df-quickchart-complete');\n",
              "    }\n",
              "    (() => {\n",
              "      let quickchartButtonEl =\n",
              "        document.querySelector('#df-1721e4e2-7836-41ca-b483-3c457c218c7e button');\n",
              "      quickchartButtonEl.style.display =\n",
              "        google.colab.kernel.accessAllowed ? 'block' : 'none';\n",
              "    })();\n",
              "  </script>\n",
              "</div>\n",
              "    </div>\n",
              "  </div>\n"
            ]
          },
          "metadata": {},
          "execution_count": 14
        }
      ]
    },
    {
      "cell_type": "code",
      "source": [
        "from sklearn.utils import resample\n",
        "\n",
        "#create two different dataframe of majority and minority class\n",
        "df_majority = text_df[(text_df['rating']==1)]\n",
        "df_minority = text_df[(text_df['rating']==0)]\n",
        "\n",
        "# upsample minority class\n",
        "df_minority_upsampled = resample(df_minority,\n",
        "                                 replace=True,    # sample with replacement\n",
        "                                 n_samples=23000 , # to match majority class\n",
        "                                 random_state=42)  # reproducible results\n",
        "\n",
        "# Combine majority class with upsampled minority class\n",
        "df_upsampled = pd.concat([df_minority_upsampled, df_majority])"
      ],
      "metadata": {
        "id": "Fi-tY9_S5P_0"
      },
      "execution_count": 15,
      "outputs": []
    },
    {
      "cell_type": "code",
      "source": [
        "plt.figure(figsize = (15, 6))\n",
        "ax=plt.subplot(1, 2, 1)\n",
        "sns.countplot(x=df_upsampled['rating'])\n",
        "ax.set_title('After Upsampling')\n",
        "plt.subplot(1, 2, 2)\n",
        "df_upsampled['rating'].value_counts().plot.pie(autopct='%1.0f%%')"
      ],
      "metadata": {
        "colab": {
          "base_uri": "https://localhost:8080/",
          "height": 554
        },
        "id": "hcqhQZAr9iIG",
        "outputId": "9f28a7e3-e3f7-478a-ef97-721a726a0238"
      },
      "execution_count": 16,
      "outputs": [
        {
          "output_type": "execute_result",
          "data": {
            "text/plain": [
              "<Axes: ylabel='rating'>"
            ]
          },
          "metadata": {},
          "execution_count": 16
        },
        {
          "output_type": "display_data",
          "data": {
            "text/plain": [
              "<Figure size 1500x600 with 2 Axes>"
            ],
            "image/png": "[encoded data removed]"
          },
          "metadata": {}
        }
      ]
    },
    {
      "cell_type": "code",
      "source": [
        "from sklearn.model_selection import train_test_split\n",
        "\n",
        "x_train, x_test, y_train, y_test = train_test_split(df_upsampled['review_description'],\n",
        "                                                    df_upsampled['rating'],\n",
        "                                                    random_state=1)\n",
        "\n",
        "print('Number of rows in the total set: {}'.format(df_upsampled.shape[0]))\n",
        "print('Number of rows in the training set: {}'.format(x_train.shape[0]))\n",
        "print('Number of rows in the test set: {}'.format(x_test.shape[0]))"
      ],
      "metadata": {
        "colab": {
          "base_uri": "https://localhost:8080/"
        },
        "id": "4Q044TeP5QCM",
        "outputId": "ea5f76d7-f8e4-48af-e735-3145a8fe12f3"
      },
      "execution_count": 17,
      "outputs": [
        {
          "output_type": "stream",
          "name": "stdout",
          "text": [
            "Number of rows in the total set: 46211\n",
            "Number of rows in the training set: 34658\n",
            "Number of rows in the test set: 11553\n"
          ]
        }
      ]
    },
    {
      "cell_type": "code",
      "source": [
        "from sklearn.feature_extraction.text import CountVectorizer\n",
        "count_vector = CountVectorizer()"
      ],
      "metadata": {
        "id": "PxLC5UPV6h-t"
      },
      "execution_count": 18,
      "outputs": []
    },
    {
      "cell_type": "code",
      "source": [
        "# Instantiate the CountVectorizer method\n",
        "count_vector = CountVectorizer()\n",
        "\n",
        "# Fit the training data and then return the matrix\n",
        "training_data = count_vector.fit_transform(x_train)\n",
        "\n",
        "# Transform testing data and return the matrix. Note we are not fitting the testing data into the CountVectorizer()\n",
        "testing_data = count_vector.transform(x_test)"
      ],
      "metadata": {
        "id": "m5XmyhVt6R9g"
      },
      "execution_count": 19,
      "outputs": []
    },
    {
      "cell_type": "code",
      "source": [
        "from sklearn.naive_bayes import MultinomialNB\n",
        "naive_bayes = MultinomialNB()\n",
        "naive_bayes.fit(training_data.toarray(), y_train)"
      ],
      "metadata": {
        "colab": {
          "base_uri": "https://localhost:8080/",
          "height": 75
        },
        "id": "iT2oTeSe6SBV",
        "outputId": "c77ad25f-6677-4da5-feca-5320c4859242"
      },
      "execution_count": 20,
      "outputs": [
        {
          "output_type": "execute_result",
          "data": {
            "text/plain": [
              "MultinomialNB()"
            ],
            "text/html": [
              "<style>#sk-container-id-1 {color: black;background-color: white;}#sk-container-id-1 pre{padding: 0;}#sk-container-id-1 div.sk-toggleable {background-color: white;}#sk-container-id-1 label.sk-toggleable__label {cursor: pointer;display: block;width: 100%;margin-bottom: 0;padding: 0.3em;box-sizing: border-box;text-align: center;}#sk-container-id-1 label.sk-toggleable__label-arrow:before {content: \"▸\";float: left;margin-right: 0.25em;color: #696969;}#sk-container-id-1 label.sk-toggleable__label-arrow:hover:before {color: black;}#sk-container-id-1 div.sk-estimator:hover label.sk-toggleable__label-arrow:before {color: black;}#sk-container-id-1 div.sk-toggleable__content {max-height: 0;max-width: 0;overflow: hidden;text-align: left;background-color: #f0f8ff;}#sk-container-id-1 div.sk-toggleable__content pre {margin: 0.2em;color: black;border-radius: 0.25em;background-color: #f0f8ff;}#sk-container-id-1 input.sk-toggleable__control:checked~div.sk-toggleable__content {max-height: 200px;max-width: 100%;overflow: auto;}#sk-container-id-1 input.sk-toggleable__control:checked~label.sk-toggleable__label-arrow:before {content: \"▾\";}#sk-container-id-1 div.sk-estimator input.sk-toggleable__control:checked~label.sk-toggleable__label {background-color: #d4ebff;}#sk-container-id-1 div.sk-label input.sk-toggleable__control:checked~label.sk-toggleable__label {background-color: #d4ebff;}#sk-container-id-1 input.sk-hidden--visually {border: 0;clip: rect(1px 1px 1px 1px);clip: rect(1px, 1px, 1px, 1px);height: 1px;margin: -1px;overflow: hidden;padding: 0;position: absolute;width: 1px;}#sk-container-id-1 div.sk-estimator {font-family: monospace;background-color: #f0f8ff;border: 1px dotted black;border-radius: 0.25em;box-sizing: border-box;margin-bottom: 0.5em;}#sk-container-id-1 div.sk-estimator:hover {background-color: #d4ebff;}#sk-container-id-1 div.sk-parallel-item::after {content: \"\";width: 100%;border-bottom: 1px solid gray;flex-grow: 1;}#sk-container-id-1 div.sk-label:hover label.sk-toggleable__label {background-color: #d4ebff;}#sk-container-id-1 div.sk-serial::before {content: \"\";position: absolute;border-left: 1px solid gray;box-sizing: border-box;top: 0;bottom: 0;left: 50%;z-index: 0;}#sk-container-id-1 div.sk-serial {display: flex;flex-direction: column;align-items: center;background-color: white;padding-right: 0.2em;padding-left: 0.2em;position: relative;}#sk-container-id-1 div.sk-item {position: relative;z-index: 1;}#sk-container-id-1 div.sk-parallel {display: flex;align-items: stretch;justify-content: center;background-color: white;position: relative;}#sk-container-id-1 div.sk-item::before, #sk-container-id-1 div.sk-parallel-item::before {content: \"\";position: absolute;border-left: 1px solid gray;box-sizing: border-box;top: 0;bottom: 0;left: 50%;z-index: -1;}#sk-container-id-1 div.sk-parallel-item {display: flex;flex-direction: column;z-index: 1;position: relative;background-color: white;}#sk-container-id-1 div.sk-parallel-item:first-child::after {align-self: flex-end;width: 50%;}#sk-container-id-1 div.sk-parallel-item:last-child::after {align-self: flex-start;width: 50%;}#sk-container-id-1 div.sk-parallel-item:only-child::after {width: 0;}#sk-container-id-1 div.sk-dashed-wrapped {border: 1px dashed gray;margin: 0 0.4em 0.5em 0.4em;box-sizing: border-box;padding-bottom: 0.4em;background-color: white;}#sk-container-id-1 div.sk-label label {font-family: monospace;font-weight: bold;display: inline-block;line-height: 1.2em;}#sk-container-id-1 div.sk-label-container {text-align: center;}#sk-container-id-1 div.sk-container {/* jupyter's `normalize.less` sets `[hidden] { display: none; }` but bootstrap.min.css set `[hidden] { display: none !important; }` so we also need the `!important` here to be able to override the default hidden behavior on the sphinx rendered scikit-learn.org. See: https://github.com/scikit-learn/scikit-learn/issues/21755 */display: inline-block !important;position: relative;}#sk-container-id-1 div.sk-text-repr-fallback {display: none;}</style><div id=\"sk-container-id-1\" class=\"sk-top-container\"><div class=\"sk-text-repr-fallback\"><pre>MultinomialNB()</pre><b>In a Jupyter environment, please rerun this cell to show the HTML representation or trust the notebook. <br />On GitHub, the HTML representation is unable to render, please try loading this page with nbviewer.org.</b></div><div class=\"sk-container\" hidden><div class=\"sk-item\"><div class=\"sk-estimator sk-toggleable\"><input class=\"sk-toggleable__control sk-hidden--visually\" id=\"sk-estimator-id-1\" type=\"checkbox\" checked><label for=\"sk-estimator-id-1\" class=\"sk-toggleable__label sk-toggleable__label-arrow\">MultinomialNB</label><div class=\"sk-toggleable__content\"><pre>MultinomialNB()</pre></div></div></div></div></div>"
            ]
          },
          "metadata": {},
          "execution_count": 20
        }
      ]
    },
    {
      "cell_type": "code",
      "source": [
        "predictions = naive_bayes.predict(testing_data.toarray())"
      ],
      "metadata": {
        "id": "VNKdQuZg6o2G"
      },
      "execution_count": 21,
      "outputs": []
    },
    {
      "cell_type": "code",
      "source": [
        "print('Accuracy score: ', format(accuracy_score(y_test, predictions)))\n",
        "print('Precision score: ', format(precision_score(y_test, predictions)))\n",
        "print('Recall score: ', format(recall_score(y_test, predictions)))\n",
        "print('F1 score: ', format(f1_score(y_test, predictions)))"
      ],
      "metadata": {
        "colab": {
          "base_uri": "https://localhost:8080/"
        },
        "id": "HKTqzKPG6wwu",
        "outputId": "d70992cd-96b5-4b11-ea7e-f987875be00f"
      },
      "execution_count": 22,
      "outputs": [
        {
          "output_type": "stream",
          "name": "stdout",
          "text": [
            "Accuracy score:  0.8641045615857353\n",
            "Precision score:  0.8699401619148187\n",
            "Recall score:  0.8560789747142362\n",
            "F1 score:  0.8629539106145251\n"
          ]
        }
      ]
    },
    {
      "cell_type": "code",
      "source": [
        "test1=[\"أنا أحب موقع الملابس الإلكتروني هذا! يوفر تشكيلة رائعة من الملابس العصرية والجودة عالية. كما أنه يوفر خدمة توصيل سريعة وموثوقة. أنصح الجميع بتجربته!\",\n",
        "       \"تجربتي مع هذا الموقع كانت سيئة جدًا. لقد تلقيت منتجًا غير مطابق للصورة، والجودة كانت سيئة للغاية. لم يتم استجابة لشكواي بشكل مناسب ولم يتم توفير حلاً مناسبًا. لن أعود للشراء من هذا الموقع مرة أخرى.\",\n",
        "    \"أنا غير راضٍ عن خدمة العملاء في هذا الموقع. كانت التجربة غير مرضية، ولم يتم التعامل مع استفساراتي بشكل لائق. بالإضافة إلى ذلك، تأخرت عملية التوصيل بشكل كبير ولم يتم تقديم أي اعتذار. لا أنصح بهذا الموقع.\"]"
      ],
      "metadata": {
        "id": "2DQeL1Q-7KcH"
      },
      "execution_count": 23,
      "outputs": []
    },
    {
      "cell_type": "code",
      "source": [
        "test2=count_vector.transform(test1)"
      ],
      "metadata": {
        "id": "7CskzU2z774L"
      },
      "execution_count": 24,
      "outputs": []
    },
    {
      "cell_type": "code",
      "source": [
        "res=naive_bayes.predict(test2.toarray())"
      ],
      "metadata": {
        "id": "NTDxqyc08AaS"
      },
      "execution_count": 26,
      "outputs": []
    },
    {
      "cell_type": "code",
      "source": [
        "for i in res:\n",
        "  if i==0:\n",
        "    print(\"Negative\")\n",
        "  else:\n",
        "    print(\"positive\")"
      ],
      "metadata": {
        "colab": {
          "base_uri": "https://localhost:8080/"
        },
        "id": "FvIwOqv28OB_",
        "outputId": "b074dbfa-c8a9-402e-f714-ff44d1a2715e"
      },
      "execution_count": 27,
      "outputs": [
        {
          "output_type": "stream",
          "name": "stdout",
          "text": [
            "positive\n",
            "Negative\n",
            "Negative\n"
          ]
        }
      ]
    },
    {
      "cell_type": "code",
      "source": [
        "from sklearn.model_selection import cross_val_score\n",
        "from sklearn.linear_model import LogisticRegression"
      ],
      "metadata": {
        "id": "l00n6gNo-Lhr"
      },
      "execution_count": 28,
      "outputs": []
    },
    {
      "cell_type": "code",
      "source": [
        "from sklearn.model_selection import GridSearchCV"
      ],
      "metadata": {
        "id": "bS7zQ1LVvgbM"
      },
      "execution_count": 29,
      "outputs": []
    },
    {
      "cell_type": "code",
      "source": [
        "param_grid = {'C': [0.001, 0.01, 0.1, 1, 10]}\n",
        "grid = GridSearchCV(LogisticRegression(max_iter=1000), param_grid, cv=5)\n",
        "grid.fit(training_data, y_train)\n",
        "print(\"Best cross-validation score: {:.2f}\".format(grid.best_score_))\n",
        "print(\"Best parameters: \", grid.best_params_)"
      ],
      "metadata": {
        "colab": {
          "base_uri": "https://localhost:8080/"
        },
        "id": "IwVbaFSrw8tH",
        "outputId": "019c06d5-cd00-4143-d45e-0b711352a0a6"
      },
      "execution_count": 30,
      "outputs": [
        {
          "output_type": "stream",
          "name": "stdout",
          "text": [
            "Best cross-validation score: 0.88\n",
            "Best parameters:  {'C': 10}\n"
          ]
        }
      ]
    },
    {
      "cell_type": "code",
      "source": [
        "from sklearn.linear_model import LogisticRegression\n",
        "\n",
        "# Instantiate LogisticRegression with the desired 'C' value\n",
        "logreg = LogisticRegression(C=10, max_iter=1000)\n",
        "\n",
        "# Fit the model to the training data\n",
        "logreg.fit(training_data, y_train)\n",
        "\n",
        "# Predict on the test data\n",
        "y_pred1 = logreg.predict(testing_data)"
      ],
      "metadata": {
        "id": "7g-_7L9zxf1I"
      },
      "execution_count": 33,
      "outputs": []
    },
    {
      "cell_type": "code",
      "source": [
        "print(\"Confusion Matrix: \")\n",
        "plt.figure(figsize=(10, 5))\n",
        "sns.heatmap(confusion_matrix(y_test, y_pred1), annot=True, fmt='g');\n",
        "plt.title('Confusion Matrix', fontsize=20)\n",
        "print('Accuracy score: ', format(accuracy_score(y_test, y_pred1)))\n",
        "print('Precision score: ', format(precision_score(y_test, y_pred1)))\n",
        "print('Recall score: ', format(recall_score(y_test, y_pred1)))\n",
        "print('F1 score: ', format(f1_score(y_test, y_pred1)))"
      ],
      "metadata": {
        "colab": {
          "base_uri": "https://localhost:8080/",
          "height": 563
        },
        "id": "2xOIsQV5x1Wz",
        "outputId": "fcaef687-25ce-4e83-c9dd-03b63414a2df"
      },
      "execution_count": 34,
      "outputs": [
        {
          "output_type": "stream",
          "name": "stdout",
          "text": [
            "Confusion Matrix: \n",
            "Accuracy score:  0.8924088981217\n",
            "Precision score:  0.894342906875544\n",
            "Recall score:  0.8898510564599931\n",
            "F1 score:  0.8920913273721678\n"
          ]
        },
        {
          "output_type": "display_data",
          "data": {
            "text/plain": [
              "<Figure size 1000x500 with 2 Axes>"
            ],
            "image/png": "[encoded data removed]"
          },
          "metadata": {}
        }
      ]
    },
    {
      "cell_type": "code",
      "source": [
        "test2=[\"أنا أحب موقع الملابس الإلكتروني هذا! يوفر تشكيلة رائعة من الملابس العصرية والجودة عالية. كما أنه يوفر خدمة توصيل سريعة وموثوقة. أنصح الجميع بتجربته!\",\n",
        "       \"تجربتي مع هذا الموقع كانت سيئة جدًا. لقد تلقيت منتجًا غير مطابق للصورة، والجودة كانت سيئة للغاية. لم يتم استجابة لشكواي بشكل مناسب ولم يتم توفير حلاً مناسبًا. لن أعود للشراء من هذا الموقع مرة أخرى.\",\n",
        "    \"أنا غير راضٍ عن خدمة العملاء في هذا الموقع. كانت التجربة غير مرضية، ولم يتم التعامل مع استفساراتي بشكل لائق. بالإضافة إلى ذلك، تأخرت عملية التوصيل بشكل كبير ولم يتم تقديم أي اعتذار. لا أنصح بهذا الموقع.\"]"
      ],
      "metadata": {
        "id": "b9iofYfezKjh"
      },
      "execution_count": 36,
      "outputs": []
    },
    {
      "cell_type": "code",
      "source": [
        "test2=count_vector.transform(test2)\n",
        "res2=naive_bayes.predict(test2.toarray())"
      ],
      "metadata": {
        "id": "tkpqvUJ0zL_6"
      },
      "execution_count": 37,
      "outputs": []
    },
    {
      "cell_type": "code",
      "source": [
        "for i in res:\n",
        "  if i==0:\n",
        "    print(\"Negative\")\n",
        "  else:\n",
        "    print(\"positive\")"
      ],
      "metadata": {
        "colab": {
          "base_uri": "https://localhost:8080/"
        },
        "id": "b-Un7EN6zpvh",
        "outputId": "2a029500-c1ef-41a8-d321-a8d9dc55058b"
      },
      "execution_count": 38,
      "outputs": [
        {
          "output_type": "stream",
          "name": "stdout",
          "text": [
            "positive\n",
            "Negative\n",
            "Negative\n"
          ]
        }
      ]
    },
    {
      "cell_type": "code",
      "source": [
        "from sklearn.tree import DecisionTreeClassifier"
      ],
      "metadata": {
        "id": "pGw2RAynzqfw"
      },
      "execution_count": 39,
      "outputs": []
    },
    {
      "cell_type": "code",
      "source": [
        "\n",
        "# Create a dictionary of hyperparameters to search over\n",
        "param_grid = {\n",
        "    'criterion': ['gini', 'entropy'],\n",
        "    'max_depth': [None, 5, 10, 20],\n",
        "    'min_samples_split': [2, 5, 10],\n",
        "    'min_samples_leaf': [1, 2, 4],\n",
        "}\n",
        "\n",
        "# Instantiate DecisionTreeClassifier\n",
        "dt_classifier = DecisionTreeClassifier()\n",
        "\n",
        "# Create GridSearchCV object with the classifier and parameter grid\n",
        "grid_search = GridSearchCV(dt_classifier, param_grid, cv=5)\n",
        "\n",
        "# Fit the grid search to the training data\n",
        "grid_search.fit(training_data, y_train)\n",
        "\n",
        "# Retrieve the best model and its hyperparameters\n",
        "print(grid_search.best_estimator_)\n",
        "print(grid_search.best_params_)"
      ],
      "metadata": {
        "colab": {
          "base_uri": "https://localhost:8080/"
        },
        "id": "E20W5tN0zyXN",
        "outputId": "542f7ad9-5469-411f-903e-0f61df5fda79"
      },
      "execution_count": 40,
      "outputs": [
        {
          "output_type": "stream",
          "name": "stdout",
          "text": [
            "DecisionTreeClassifier(criterion='entropy', min_samples_split=10)\n",
            "{'criterion': 'entropy', 'max_depth': None, 'min_samples_leaf': 1, 'min_samples_split': 10}\n"
          ]
        }
      ]
    },
    {
      "cell_type": "code",
      "source": [
        "from sklearn.tree import DecisionTreeClassifier\n",
        "\n",
        "# Instantiate DecisionTreeClassifier\n",
        "dt_classifier = DecisionTreeClassifier(criterion='entropy', max_depth=None, min_samples_leaf=1, min_samples_split=10)\n",
        "\n",
        "# Fit the model to the training data\n",
        "dt_classifier.fit(training_data, y_train)\n",
        "\n",
        "# Predict on the test data\n",
        "y_pred3 = dt_classifier.predict(testing_data)"
      ],
      "metadata": {
        "id": "lcHZkjBN0GOa"
      },
      "execution_count": 41,
      "outputs": []
    },
    {
      "cell_type": "code",
      "source": [
        "print(\"Confusion Matrix: \")\n",
        "plt.figure(figsize=(10, 5))\n",
        "sns.heatmap(confusion_matrix(y_test, y_pred3), annot=True, fmt='g');\n",
        "print('Accuracy score: ', format(accuracy_score(y_test, y_pred3)))\n",
        "print('Precision score: ', format(precision_score(y_test, y_pred3)))\n",
        "print('Recall score: ', format(recall_score(y_test, y_pred3)))\n",
        "print('F1 score: ', format(f1_score(y_test, y_pred3)))"
      ],
      "metadata": {
        "colab": {
          "base_uri": "https://localhost:8080/",
          "height": 532
        },
        "id": "MZ6zvsBM4kxk",
        "outputId": "6dc5b32e-7c56-44a4-b2db-74968fe38adc"
      },
      "execution_count": 42,
      "outputs": [
        {
          "output_type": "stream",
          "name": "stdout",
          "text": [
            "Confusion Matrix: \n",
            "Accuracy score:  0.8775209902189908\n",
            "Precision score:  0.8814983371258533\n",
            "Recall score:  0.8721856598545202\n",
            "F1 score:  0.8768172716984418\n"
          ]
        },
        {
          "output_type": "display_data",
          "data": {
            "text/plain": [
              "<Figure size 1000x500 with 2 Axes>"
            ],
            "image/png": "[encoded data removed]"
          },
          "metadata": {}
        }
      ]
    },
    {
      "cell_type": "code",
      "source": [
        "test3=[\"أنا أحب موقع الملابس الإلكتروني هذا! يوفر تشكيلة رائعة من الملابس العصرية والجودة عالية. كما أنه يوفر خدمة توصيل سريعة وموثوقة. أنصح الجميع بتجربته!\",\n",
        "       \"تجربتي مع هذا الموقع كانت سيئة جدًا. لقد تلقيت منتجًا غير مطابق للصورة، والجودة كانت سيئة للغاية. لم يتم استجابة لشكواي بشكل مناسب ولم يتم توفير حلاً مناسبًا. لن أعود للشراء من هذا الموقع مرة أخرى.\",\n",
        "    \"أنا غير راضٍ عن خدمة العملاء في هذا الموقع. كانت التجربة غير مرضية، ولم يتم التعامل مع استفساراتي بشكل لائق. بالإضافة إلى ذلك، تأخرت عملية التوصيل بشكل كبير ولم يتم تقديم أي اعتذار. لا أنصح بهذا الموقع.\"]"
      ],
      "metadata": {
        "id": "BQRpajCO5mDp"
      },
      "execution_count": 48,
      "outputs": []
    },
    {
      "cell_type": "code",
      "source": [
        "test2=count_vector.transform(test3)\n",
        "test2.toarray()"
      ],
      "metadata": {
        "colab": {
          "base_uri": "https://localhost:8080/"
        },
        "id": "e9z4oWIP5Bij",
        "outputId": "2a4fe1f9-d450-4c98-f777-b49db57a3deb"
      },
      "execution_count": 49,
      "outputs": [
        {
          "output_type": "execute_result",
          "data": {
            "text/plain": [
              "array([[0, 0, 0, ..., 0, 0, 0],\n",
              "       [0, 0, 0, ..., 0, 0, 0],\n",
              "       [0, 0, 0, ..., 0, 0, 0]])"
            ]
          },
          "metadata": {},
          "execution_count": 49
        }
      ]
    },
    {
      "cell_type": "code",
      "source": [
        "res3=dt_classifier.predict(test2.toarray())"
      ],
      "metadata": {
        "id": "jDBi5b2N5BkA"
      },
      "execution_count": 50,
      "outputs": []
    },
    {
      "cell_type": "code",
      "source": [
        "for i in res3:\n",
        "  if i==0:\n",
        "    print(\"Negative\")\n",
        "  else:\n",
        "    print(\"positive\")"
      ],
      "metadata": {
        "colab": {
          "base_uri": "https://localhost:8080/"
        },
        "id": "8MTpCjNK5YWp",
        "outputId": "44605b5c-70a7-4a79-b93e-f4a9b6964ed0"
      },
      "execution_count": 51,
      "outputs": [
        {
          "output_type": "stream",
          "name": "stdout",
          "text": [
            "positive\n",
            "Negative\n",
            "Negative\n"
          ]
        }
      ]
    },
    {
      "cell_type": "code",
      "source": [],
      "metadata": {
        "id": "XAmKm7-e5dBL"
      },
      "execution_count": null,
      "outputs": []
    }
  ]
}